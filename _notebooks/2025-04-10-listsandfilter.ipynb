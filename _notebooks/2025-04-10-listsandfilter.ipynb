{
 "cells": [
  {
   "cell_type": "markdown",
   "metadata": {},
   "source": [
    "---\n",
    "layout: post\n",
    "title: Random Games and Simulations\n",
    "---"
   ]
  },
  {
   "cell_type": "markdown",
   "metadata": {},
   "source": [
    "## Popcorn Hack 1"
   ]
  },
  {
   "cell_type": "code",
   "execution_count": null,
   "metadata": {},
   "outputs": [
    {
     "name": "stdout",
     "output_type": "stream",
     "text": [
      "Dice roll: 1\n"
     ]
    }
   ],
   "source": [
    "import random\n",
    "\n",
    "def roll_dice():\n",
    "    return random.randint(1, 6)\n",
    "\n",
    "    pass\n",
    "\n",
    "print(\"Dice roll:\", roll_dice())"
   ]
  },
  {
   "cell_type": "markdown",
   "metadata": {},
   "source": [
    "## Popcorn Hack 2"
   ]
  },
  {
   "cell_type": "code",
   "execution_count": 15,
   "metadata": {},
   "outputs": [
    {
     "name": "stdout",
     "output_type": "stream",
     "text": [
      "Yellow\n",
      "Red\n",
      "Red\n",
      "Blue\n",
      "Blue\n",
      "Red\n",
      "Blue\n",
      "Red\n",
      "Blue\n",
      "Red\n"
     ]
    }
   ],
   "source": [
    "import random\n",
    "\n",
    "def biased_color():\n",
    "    # Make a biased color generator, with a bias towards Red and Blue.\n",
    "    colors = ['Red'] * 50 + ['Blue'] * 30 + ['Green', 'Yellow', 'Purple', 'Orange'] * 5\n",
    "    return random.choice(colors)\n",
    "\n",
    "# Print 10 biased random colors\n",
    "for _ in range(10):\n",
    "    print(biased_color()) \n",
    "pass"
   ]
  },
  {
   "cell_type": "markdown",
   "metadata": {},
   "source": [
    "## Homework Hack 1 - Coin Flip Win Simulation"
   ]
  },
  {
   "cell_type": "code",
   "execution_count": null,
   "metadata": {},
   "outputs": [
    {
     "name": "stdout",
     "output_type": "stream",
     "text": [
      "Player 2 wins in 3 rounds with 3 heads\n"
     ]
    }
   ],
   "source": [
    "import random\n",
    "def coin_flip_game():\n",
    "    player1head = 0\n",
    "    player2head = 0\n",
    "    rounds = 0\n",
    "\n",
    "    while player1head < 3 and player2head < 3:\n",
    "        \n",
    "        if random.choice(['heads', 'tails']) == 'heads':\n",
    "            player1head += 1\n",
    "        if random.choice(['heads', 'tails']) == 'heads':\n",
    "            player2head += 1\n",
    "        rounds += 1\n",
    "\n",
    "    if player1head == 3:\n",
    "        print(f\"Player 1 wins in {rounds} rounds with {player1head} heads\")\n",
    "    else:\n",
    "        print(f\"Player 2 wins in {rounds} rounds with {player2head} heads\")\n",
    "\n",
    "coin_flip_game()"
   ]
  }
 ],
 "metadata": {
  "kernelspec": {
   "display_name": "venv",
   "language": "python",
   "name": "python3"
  },
  "language_info": {
   "codemirror_mode": {
    "name": "ipython",
    "version": 3
   },
   "file_extension": ".py",
   "mimetype": "text/x-python",
   "name": "python",
   "nbconvert_exporter": "python",
   "pygments_lexer": "ipython3",
   "version": "3.12.5"
  }
 },
 "nbformat": 4,
 "nbformat_minor": 2
}
