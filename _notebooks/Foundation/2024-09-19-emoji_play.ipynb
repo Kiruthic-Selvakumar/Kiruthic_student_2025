{
 "cells": [
  {
   "cell_type": "code",
   "execution_count": 38,
   "metadata": {},
   "outputs": [
    {
     "name": "stdout",
     "output_type": "stream",
     "text": [
      "🏫 Hi look at these emojis I found! 💻 :laugh:\n"
     ]
    }
   ],
   "source": [
    "from emoji import emojize \n",
    "print(emojize(\":school: Hi look at these emojis I found! :laptop:\"))"
   ]
  },
  {
   "cell_type": "code",
   "execution_count": 42,
   "metadata": {},
   "outputs": [
    {
     "name": "stdout",
     "output_type": "stream",
     "text": [
      "Videogames\n"
     ]
    },
    {
     "data": {
      "text/markdown": [
       "A video game, also known as a computer game or just a game, is an electronic game that involves interaction with a user interface or input device (such as a joystick, controller, keyboard, or motion sensing device) to generate visual feedback from a display device, most commonly shown in a video format on a television set, computer monitor, flat-panel display or touchscreen on handheld devices, or a virtual reality headset. Most modern video games are audiovisual, with audio complement delivered through speakers or headphones, and sometimes also with other types of sensory feedback (e.g., haptic technology that provides tactile sensations). Some video games also allow microphone and webcam inputs for in-game chatting and livestreaming.\n",
       "Video games are typically categorized according to their hardware platform, which traditionally includes arcade video games, console games, and computer (PC) games; the latter also encompasses LAN games, online games, and browser games. More recently, the video game industry has expanded onto mobile gaming through mobile devices (such as smartphones and tablet computers), virtual and augmented reality systems, and remote cloud gaming. Video games are also classified into a wide range of genres based on their style of gameplay and target audience.\n",
       "The first video game prototypes in the 1950s and 1960s were simple extensions of electronic games using video-like output from large, room-sized mainframe computers. The first consumer video game was the arcade video game Computer Space in 1971. In 1972 came the iconic hit game Pong and the first home console, the Magnavox Odyssey. The industry grew quickly during the \"golden age\" of arcade video games from the late 1970s to early 1980s but suffered from the crash of the North American video game market in 1983 due to loss of publishing control and saturation of the market. Following the crash, the industry matured, was dominated by Japanese companies such as Nintendo, Sega, and Sony, and established practices and methods around the development and distribution of video games to prevent a similar crash in the future, many of which continue to be followed. In the 2000s, the core industry centered on \"AAA\" games, leaving little room for riskier experimental games. Coupled with the availability of the Internet and digital distribution, this gave room for independent video game development (or \"indie games\") to gain prominence into the 2010s. Since then, the commercial importance of the video game industry has been increasing. The emerging Asian markets and proliferation of smartphone games in particular are altering player demographics towards casual gaming and increasing monetization by incorporating games as a service.\n",
       "Today, video game development requires numerous interdisciplinary skills, vision, teamwork, and liaisons between different parties, including developers, publishers, distributors, retailers, hardware manufacturers, and other marketers, to successfully bring a game to its consumers. As of 2020, the global video game market had estimated annual revenues of US$159 billion across hardware, software, and services, which is three times the size of the global music industry and four times that of the film industry in 2019, making it a formidable heavyweight across the modern entertainment industry. The video game market is also a major influence behind the electronics industry, where personal computer component, console, and peripheral sales, as well as consumer demands for better game performance, have been powerful driving factors for hardware design and innovation."
      ],
      "text/plain": [
       "<IPython.core.display.Markdown object>"
      ]
     },
     "metadata": {},
     "output_type": "display_data"
    },
    {
     "name": "stdout",
     "output_type": "stream",
     "text": [
      "Sports\n"
     ]
    },
    {
     "data": {
      "text/markdown": [
       "Sport is a form of physical activity or game. Often competitive and organized, sports use, maintain, or improve physical ability and skills. They also provide enjoyment to participants and, in some cases, entertainment to spectators. Many sports exist, with different participant numbers, some are done by a single person with others being done by hundreds. Most sports take place either in teams or competing as individuals. Some sports allow a \"tie\" or \"draw\", in which there is no single winner; others provide tie-breaking methods to ensure one winner. A number of contests may be arranged in a tournament format, producing a champion. Many sports leagues make an annual champion by arranging games in a regular sports season, followed in some cases by playoffs.\n",
       "Sport is generally recognised as system of activities based in physical athleticism or physical dexterity, with major competitions admitting only sports meeting this definition. Some organisations, such as the Council of Europe, preclude activities without any physical element from classification as sports. However, a number of competitive, but non-physical, activities claim recognition as mind sports. The International Olympic Committee who oversee the Olympic Games recognises both chess and bridge as sports. SportAccord, the international sports federation association, recognises five non-physical sports: chess, bridge, draughts, Go and xiangqi. However, they limit the number of mind games which can be admitted as sports. Sport is usually governed by a set of rules or customs, which serve to ensure fair competition. Winning can be determined by physical events such as scoring goals or crossing a line first. It can also be determined by judges who are scoring elements of the sporting performance, including objective or subjective measures such as technical performance or artistic impression.\n",
       "Records of performance are often kept, and for popular sports, this information may be widely announced or reported in sport news. Sport is also a major source of entertainment for non-participants, with spectator sport drawing large crowds to sport venues, and reaching wider audiences through broadcasting. Sport betting is in some cases severely regulated, and in others integral to the sport.\n",
       "According to A.T. Kearney, a consultancy, the global sporting industry is worth up to $620 billion as of 2013. The world's most accessible and practised sport is running, while association football is the most popular spectator sport."
      ],
      "text/plain": [
       "<IPython.core.display.Markdown object>"
      ]
     },
     "metadata": {},
     "output_type": "display_data"
    }
   ],
   "source": [
    "#!pip install wikipedia\n",
    "import wikipedia \n",
    "from IPython.display import display, Markdown # add for Jupyter\n",
    "\n",
    "terms = [\"Videogames\", \"Sports\"]\n",
    "for term in terms:\n",
    "    # Search for a page \n",
    "    result = wikipedia.search(term)\n",
    "    # Get the summary of the first result\n",
    "    summary = wikipedia.summary(result[0])\n",
    "    print(term) \n",
    "    # print(summary) # console display\n",
    "    display(Markdown(summary)) # Jupyter display"
   ]
  },
  {
   "cell_type": "code",
   "execution_count": 43,
   "metadata": {},
   "outputs": [
    {
     "data": {
      "text/markdown": [
       "Tropical storm-like system floods North Carolina with historic rain"
      ],
      "text/plain": [
       "<IPython.core.display.Markdown object>"
      ]
     },
     "metadata": {},
     "output_type": "display_data"
    },
    {
     "data": {
      "text/markdown": [
       "CNN —\n",
       "\n",
       "Floodwater surged into homes, stranded vehicles and forced water rescues in coastal North Carolina on Monday after a tropical storm-like system dumped historic amounts of rain in a matter of hours.\n",
       "\n",
       "“It’s probably the worst flooding that any of us have seen in Carolina Beach,” Town Manager Bruce Oakley told CNN of the tourist town not far from Wilmington. “We’ve had to rescue people from cars, also some from houses and businesses.”\n",
       "\n",
       "Emergency services fielded dozens of calls for rescue, Oakley added.\n",
       "\n",
       "Carolina Beach was placed under a state of emergency Monday after a “historic” 18 inches of rain fell there in 12 hours at one station, a once-in-1,000-year rainfall event, according to the National Weather Service in Wilmington. More than a foot of rain in 12 hours was reported elsewhere in the area, a once-in-200-year rain event.\n",
       "\n",
       "The Brunswick County Sheriff's Office shared an image of flooding taken outside the county courthouse on Monday, September 16. Brunswick County Sheriff's Office\n",
       "\n",
       "Carolina Beach Elementary School was closed and students were dismissed early after classrooms started to flood, Oakley confirmed. Law enforcement and fire crews helped take some children home as some routes to the school were impassible due to the flooding, with roads under 3 feet of water.\n",
       "\n",
       "The owner of The Fat Pelican in Carolina Beach told CNN affiliate WWAY he didn’t have time to prepare for that much water.\n",
       "\n",
       "“There’s water inside the building. I’m trying to get the stuff that was outside that floated away,” Michael McLaughlin explained. But, he said he was optimistic that after the storm passed he could take a garden hose, wash the inside of the restaurant thoroughly and they’d “be ready to go again.”\n",
       "\n",
       "Lisa and Gary Hollon have had a home in Kure Beach, about 3 miles south of Carolina Beach, for nearly 15 years and never experienced flooding until Monday.\n",
       "\n",
       "The winds and rain picked up in the early hours of the morning and the first floor of their home experienced “sudden flooding of 4 to 6 inches,” Lisa Hollon told CNN.\n",
       "\n",
       "“We were not prepared and have never flooded before,” she said. “Many cars were unexpectedly flooded in driveways and along roads.”\n",
       "\n",
       "In video shared with CNN, the road outside of the home is covered by water as vehicles slowly drive by, causing ripples.\n",
       "\n",
       "Flooding also ramped up in neighboring Brunswick County where rainfall rates exceeded 4 to 5 inches per hour for a time Monday. The town of Sunny Point picked up more than a month’s worth of rain when over 9 inches fell in just three hours.\n",
       "\n",
       "There have been major road washouts across Brunswick County due to today's heavy rainfall and flash flooding. Never... Posted by US National Weather Service Wilmington NC on Monday, September 16, 2024\n",
       "\n",
       "“Our deputies are assisting multiple people who are stranded in their vehicles and some homes at this time,” the Brunswick County Sheriff’s office said on Facebook.\n",
       "\n",
       "The city of Southport posted on Facebook on Monday afternoon that a shelter-in-place order was in effect and later added there was a curfew between 9 p.m. and 7 a.m.\n",
       "\n",
       "Surfboarder rescues neighbor’s pup\n",
       "\n",
       "In the Brunswick County, North Carolina, community of Supply, Timothy Turner used his surfboard to travel after the road next to his house was destroyed by flooding. In some areas, the water would have been over his head.\n",
       "\n",
       "After Supply – about 10 miles from Holden Beach – was hit by intense rain, Turner offered to help a neighbor whose dog was stuck at home on the other side of the road.\n",
       "\n",
       "“I crossed it with my surfboard, sank down into the mud, went to her house, got her dog and brought it back across,” said Turner, who runs a surfing school and assists with ocean rescues since the area doesn’t have lifeguards.\n",
       "\n",
       "“I’ve gotten 25 rescues out of the rip currents in the last eight years but that was the first time I ever got a dog up with a surfboard.”\n",
       "\n",
       "The extreme rainfall and flooding is another stark reminder that it doesn’t take a named storm to trigger extremely dangerous conditions. The atmosphere was ripe to unload torrential rainfall, something that’s becoming more common as the world warms due to fossil fuel pollution.\n",
       "\n",
       "Roads are flooded at least 3 feet deep in parts of Carolina Beach. No cars or trucks are designed to safely travel in floodwater this deep. Please stay off the roads. #ncwx\n",
       "\n",
       "(Photo from Ashely MacBride in Carolina Beach) pic.twitter.com/CbwLbsqc2E — NWS Wilmington, NC (@NWSWilmingtonNC) September 16, 2024\n",
       "\n",
       "Floodwaters started to recede in Carolina Beach early Monday afternoon as torrential rain shifted west of the area, according to Oakley. But cars abandoned during the worst of the flooding remained on empty roadways, according to town mayor Lynn Barbee.\n",
       "\n",
       "Storm is weakening and forecast is improving\n",
       "\n",
       "Tropical storm warnings for the coastal Carolinas have been discontinued as of Monday evening, according to the National Hurricane Center.\n",
       "\n",
       "The system was called Potential Tropical Cyclone Eight because it wasn’t organized enough to be dubbed a tropical or subtropical storm.\n",
       "\n",
       "“Continued weakening is expected during the next day or so, and the low is forecast to dissipate over the Carolinas by early Wednesday,” forecasters said.\n",
       "\n",
       "A system’s center is typically where its strongest winds and its heaviest rain occur, but that’s not the case for Potential Tropical Cyclone Eight. Most of the system’s heaviest rain and gusty winds are far removed from its poorly defined center, satellite imagery shows.\n",
       "\n",
       "The sun rises on Potential Tropical Cyclone Eight Monday. CIRA/RAMMB\n",
       "\n",
       "The center of the system came ashore Monday evening near the South Carolina-North Carolina state line, with southeast North Carolina still enduring most of the storm’s significant impacts.\n",
       "\n",
       "Forecast track for Potential Tropical Cyclone Eight. CNN Weather\n",
       "\n",
       "Much of southeast North Carolina is under a flood watch until Tuesday morning, according to the National Weather Service.\n",
       "\n",
       "“Excessive runoff may result in flooding of rivers, creeks, streams, and other low-lying and flood-prone locations. Creeks and streams may rise out of their banks. Flooding may occur in poor drainage and urban areas,” forecasters said. They said less than an inch of additional rainfall could come down in the area Monday night but there is only a 20% chance of rain Tuesday.\n",
       "\n",
       "The Carolinas were deluged by 6 to 12 inches of rainfall from Debby in early August that created a flash flood emergency near Charleston, South Carolina.\n",
       "\n",
       "CNN Meteorologists Elisa Raffa and Brandon Miller and Jillian Sykes contributed to this report."
      ],
      "text/plain": [
       "<IPython.core.display.Markdown object>"
      ]
     },
     "metadata": {},
     "output_type": "display_data"
    },
    {
     "name": "stdout",
     "output_type": "stream",
     "text": [
      "\n",
      "\n"
     ]
    }
   ],
   "source": [
    "from newspaper import Article\n",
    "from IPython.display import display, Markdown\n",
    "\n",
    "urls = [\"https://www.cnn.com/2024/09/16/weather/tropical-storm-helene-south-north-carolina-climate/index.html\"]\n",
    "\n",
    "for url in urls:\n",
    "    article = Article(url)\n",
    "    article.download()\n",
    "    article.parse()\n",
    "    # Jupyter Notebook Display\n",
    "    # print(article.title)\n",
    "    display(Markdown(article.title)) # Jupyter display only\n",
    "    display(Markdown(article.text)) # Jupyter display only\n",
    "    print(\"\\n\")\n"
   ]
  }
 ],
 "metadata": {
  "kernelspec": {
   "display_name": "venv",
   "language": "python",
   "name": "python3"
  },
  "language_info": {
   "codemirror_mode": {
    "name": "ipython",
    "version": 3
   },
   "file_extension": ".py",
   "mimetype": "text/x-python",
   "name": "python",
   "nbconvert_exporter": "python",
   "pygments_lexer": "ipython3",
   "version": "3.12.5"
  }
 },
 "nbformat": 4,
 "nbformat_minor": 2
}
