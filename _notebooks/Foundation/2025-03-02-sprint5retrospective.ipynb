{
 "cells": [
  {
   "cell_type": "raw",
   "metadata": {
    "vscode": {
     "languageId": "raw"
    }
   },
   "source": [
    "---\n",
    "layout: post\n",
    "title: Sprint 5 Retrospective\n",
    "---"
   ]
  },
  {
   "cell_type": "markdown",
   "metadata": {},
   "source": [
    "## Self Grading: 9.2/10"
   ]
  },
  {
   "cell_type": "markdown",
   "metadata": {},
   "source": [
    "| **Title**                                    | **Points** | **Reasoning**                                                     | **Tangible**                                                   |\n",
    "|----------------------------------------------|------------|------------------------------------------------------------------|---------------------------------------------------------------|\n",
    "| **5 Things You Did Over 12 Weeks**           | 4.6/5          | I made meaningful contributions as a scrum master toward planning, and stand ups. I effectively kept track of my tasks and completed them beyond expectations, and I went ahead to make a CPT video, and arrange a review with Mrs. Pataki | [5 Things for DOCSE]({{site.baseurl}}/2025/02/02/fivethings_IPYNB_2_.html)     |                              |\n",
    "| **Full Stack Project Demo**                  | 1.8/2          | Demonstrates the final working project with all CRUD methods and includes CPT requirement highlights. | [N@TM Feedback]({{site.baseurl}}/natm/blog)                                     |\n",
    "| **Project Feature Blog Write Up**            | 0.9/1          | Detailed explanation of a key feature using CPT/FRQ language. I went beyond to include thorough documentation for Big Idea 1, 2, 4 and connected them to my feature.     | [CPT Write Up]({{site.baseurl}}/2025/02/02/featurewriteup_IPYNB_2_.html) or [Big Ideas]({{site.baseurl}}/2025/02/23/bigidea1_IPYNB_2_.html)                                        |\n",
    "| **MCQ**                                      | 1/1          | Completion of the MCQ in reasonable time and earned an outstanding score of 66/67, and completed thoughtful reflection. | [MCQ Reflection & Corrections]({{site.baseurl}}/mcqreflection/blog)                                    |\n",
    "| **10th Point**                                      | 0.9/1          | Reflected on  my strenghths and weaknesses, as well as plans for the future. Sent a summary to Mr. Mortensen early, and included self-scoring, summarized all 10 points in 3 minutes |                              |\n",
    "\n"
   ]
  },
  {
   "cell_type": "markdown",
   "metadata": {},
   "source": [
    "### Strengths\n",
    "\n",
    " - Seeing the big picture\n",
    "\n",
    " - Integrating my team's ideas\n",
    " \n",
    " - Passion & Communication"
   ]
  },
  {
   "cell_type": "markdown",
   "metadata": {},
   "source": [
    "### Weaknesses(me and the team)\n",
    "\n",
    "- Overplanning\n",
    "\n",
    "- Working last minute(less time for testing)"
   ]
  },
  {
   "cell_type": "markdown",
   "metadata": {},
   "source": [
    "## The Project(Intertravel):\n",
    "\n",
    "- Overall our first big project was a major success\n",
    "\n",
    "- Several functional features that have real-world application\n",
    "\n",
    "- CRUD methods used by all features\n",
    "\n",
    "- Communication features\n",
    "\n",
    "- Admin vs User roles\n",
    "\n",
    "- Deployed\n",
    "\n",
    "\n",
    "## The Future\n",
    "\n",
    " - Create deadlines and specific goals for each members as a scrum master\n",
    "\n",
    " - Expand the travel planner to cities beyond Paris\n",
    "\n",
    " - Make use of AI, and track personal interests to make the site more personalizes\n",
    "\n",
    " - Enable activity reccomendations, and making use of an external API to increase applicability"
   ]
  }
 ],
 "metadata": {
  "language_info": {
   "name": "python"
  }
 },
 "nbformat": 4,
 "nbformat_minor": 2
}
