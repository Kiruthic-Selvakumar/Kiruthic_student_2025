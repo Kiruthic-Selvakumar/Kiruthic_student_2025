{
 "cells": [
  {
   "cell_type": "raw",
   "metadata": {
    "vscode": {
     "languageId": "raw"
    }
   },
   "source": [
    "---\n",
    "layout: post\n",
    "title: Sprint 5 Retrospective\n",
    "---"
   ]
  },
  {
   "cell_type": "markdown",
   "metadata": {},
   "source": [
    "## DOCSE 5 Things:\n",
    "\n",
    " - Planning Issues\n",
    "\n",
    " - Kanban Board & Burndown (user stories and checklists)\n",
    "\n",
    " - Created an API with dynamic data, and a table\n",
    "\n",
    " - \n",
    "\n",
    " - Review with Ms. Pataki"
   ]
  }
 ],
 "metadata": {
  "language_info": {
   "name": "python"
  }
 },
 "nbformat": 4,
 "nbformat_minor": 2
}
