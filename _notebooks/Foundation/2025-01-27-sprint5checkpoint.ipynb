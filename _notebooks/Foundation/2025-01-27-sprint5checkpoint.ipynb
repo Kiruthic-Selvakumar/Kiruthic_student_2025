{
 "cells": [
  {
   "cell_type": "raw",
   "metadata": {
    "vscode": {
     "languageId": "raw"
    }
   },
   "source": [
    "---\n",
    "layout: post\n",
    "title: Sprint 5 Checkpoint\n",
    "---"
   ]
  },
  {
   "cell_type": "markdown",
   "metadata": {},
   "source": [
    "### Group Purpose\n",
    "\n",
    "To make a budget-friendly travel planner that will allow users to find activities, hotels, restaurants, and much more.\n",
    "\n",
    "To make an all-inclusive planning website for the city of Paris including:\n",
    " - Activity Planner: Chatbot with ratings\n",
    " - Lodging Listings: Hotel Search with ratings\n",
    " - Packing Portal: Helps make a packing list\n",
    " - Fair Fares: Searches for flights, using origin and destination\n",
    " - Budget Brilliance: Allows users to input their budgets for different aspects\n",
    " - Wellness Waypoints: Searches for hospitals, using map features\n",
    "\n",
    "### My Purpose\n",
    "\n",
    "To create an activity planner that offers a rating system for 5 attractions in Paris: \n",
    " - Eiffel Tower\n",
    " - Louvre Museum\n",
    " - Notre Dame Cathedral\n",
    " - Palace of Versailles\n",
    " - Champs-Elysees\n",
    "It will create ratings on a scale of 1-10 for each of the attractions, and allow users to create a new rating, update or edit their current rating, and delte their rating, as well as reading all of these raitings and using GET to refresh\n",
    "\n"
   ]
  },
  {
   "cell_type": "markdown",
   "metadata": {},
   "source": [
    "<img src=\"{{site.baseurl}}/images/hi1.png\">\n",
    "<img src=\"{{site.baseurl}}/images/hi2.png\">\n",
    "<img src=\"{{site.baseurl}}/images/hello2.png\">"
   ]
  },
  {
   "cell_type": "markdown",
   "metadata": {},
   "source": [
    "## Live Demo\n",
    " - Frontend API request & response\n",
    " - Postman API request & response(error & JSON)\n",
    " - Database creation and recovery"
   ]
  },
  {
   "cell_type": "markdown",
   "metadata": {},
   "source": [
    "## List Requests"
   ]
  },
  {
   "cell_type": "markdown",
   "metadata": {},
   "source": [
    "### Formatting Response Data (JSON) from API into DOM:"
   ]
  },
  {
   "cell_type": "code",
   "execution_count": null,
   "metadata": {
    "vscode": {
     "languageId": "javascript"
    }
   },
   "outputs": [],
   "source": [
    "//contains data from the database\n",
    "const data = await response.json();\n",
    "\n",
    "if (data.length === 0) {\n",
    "    table.innerHTML = \"<tr><td colspan='3'>No ratings available.</td></tr>\";\n",
    "    return;\n",
    "}\n",
    "\n",
    "// Create table body\n",
    "const body = document.createElement(\"tbody\");\n",
    "data.forEach((rating, index) => {\n",
    "    const row = document.createElement(\"tr\");\n",
    "\n",
    "    row.innerHTML = `\n",
    "        <td>${rating.rating}</td>\n",
    "        <td>${rating.user_id}</td>\n",
    "        <td>\n",
    "            <button class=\"action-btn\" id=\"update-btn-${index}\">Update</button>\n",
    "            <button class=\"action-btn\" id=\"delete-btn-${index}\">Delete</button>\n",
    "        </td>\n",
    "    `;\n",
    "\n",
    "    //add the body in a new row\n",
    "    body.appendChild(row);\n",
    "});\n",
    "table.appendChild(body);\n"
   ]
  },
  {
   "cell_type": "markdown",
   "metadata": {},
   "source": [
    "#### The list is the Data constant.\n",
    "\n",
    "This shows how the data, contains the response or the read/get function from the backend database, and it is verifying whether there is a rating, then it is creating a body and then iterating through every rating that is stored in the data, and creating a row with rating and user ID for every rating that exist. Then this row with the data and button options is appended to the existing table on the frontend."
   ]
  },
  {
   "cell_type": "markdown",
   "metadata": {},
   "source": [
    "### Queries From Database"
   ]
  },
  {
   "cell_type": "code",
   "execution_count": null,
   "metadata": {},
   "outputs": [],
   "source": [
    "def get(self):\n",
    "            \"\"\"\n",
    "            Retrieve ratings for a post.\n",
    "            \"\"\"\n",
    "            post_id = request.args.get('post_id')\n",
    "\n",
    "            # Validate post_id\n",
    "            if not post_id:\n",
    "                return jsonify({\"message\": \"post_id is required\"}), 400\n",
    "            \n",
    "\n",
    "            # Search the database for ratings with a specific POST ID\n",
    "            ratings = Rate.query.filter_by(post_id=post_id).all()\n",
    "            \n",
    "            #format the ratings from database into a list of dictionaries\n",
    "            ratings_list = [{\"rating_id\": r.id,\"user_id\": r.user_id, \"rating\": r.value} for r in ratings]\n",
    "            return jsonify(ratings_list)"
   ]
  },
  {
   "cell_type": "markdown",
   "metadata": {},
   "source": [
    "#### Flask and SQL alchemy\n",
    "\n",
    "This is using the Flask and SQL Alchemy tools/libraries, through db.session commands, and g.current_user\n",
    "\n",
    "The ratings variable is where the Database is queried and it is stored as a list to store mainly user ratings."
   ]
  },
  {
   "cell_type": "markdown",
   "metadata": {},
   "source": [
    "### Columns in Database"
   ]
  },
  {
   "cell_type": "code",
   "execution_count": null,
   "metadata": {},
   "outputs": [],
   "source": [
    "class _CRUD(Resource):\n",
    "        @token_required()\n",
    "        def post(self):\n",
    "\n",
    "            # Get the current user\n",
    "            current_user = g.current_user\n",
    "            data = request.get_json()\n",
    "            post_id = data.get('post_id')\n",
    "            rating_value = data.get('rating')\n",
    "\n",
    "            if post_id is None or rating_value is None:\n",
    "                return jsonify({\"message\": \"post_id and rating are required\"}), 400\n",
    "\n",
    "            # Create a new rating entry\n",
    "            rating = Rate(user_id=current_user.id, post_id=post_id, value=rating_value)\n",
    "\n",
    "            # Add the rating to the database\n",
    "            db.session.add(rating)\n",
    "            db.session.commit()\n",
    "\n",
    "            return jsonify({\"message\": \"Rating submitted successfully\"})"
   ]
  },
  {
   "cell_type": "markdown",
   "metadata": {},
   "source": [
    "The POST method, or Create, works with the database columns which are the types of data, or the description of data in the table. \n",
    "\n",
    "#### These columns are: \n",
    "- Rating\n",
    "- User\n",
    "- Post ID"
   ]
  },
  {
   "cell_type": "markdown",
   "metadata": {},
   "source": [
    "## Algorithmic Code Request"
   ]
  },
  {
   "cell_type": "markdown",
   "metadata": {},
   "source": [
    "### CRUD Methods"
   ]
  },
  {
   "cell_type": "code",
   "execution_count": null,
   "metadata": {},
   "outputs": [],
   "source": [
    "class RateAPI:\n",
    "    class _CRUD(Resource):\n",
    "        @token_required()\n",
    "\n",
    "        \n",
    "        def post(self):\n",
    "\n",
    "            # Get the current user\n",
    "            current_user = g.current_user\n",
    "            data = request.get_json()\n",
    "            post_id = data.get('post_id')\n",
    "            rating_value = data.get('rating')\n",
    "\n",
    "            # Validate input\n",
    "            if post_id is None or rating_value is None:\n",
    "                return jsonify({\"message\": \"post_id and rating are required\"}), 400\n",
    "            \n",
    "            # Create a new rating entry\n",
    "            rating = Rate(user_id=current_user.id, post_id=post_id, value=rating_value)\n",
    "\n",
    "            # Add the rating to the database\n",
    "            db.session.add(rating)\n",
    "            db.session.commit()\n",
    "\n",
    "            return jsonify({\"message\": \"Rating submitted successfully\"})\n",
    "\n",
    "        @token_required()\n",
    "        def get(self):\n",
    "            post_id = request.args.get('post_id')\n",
    "            if not post_id:\n",
    "                return jsonify({\"message\": \"post_id is required\"}), 400\n",
    "            \n",
    "            ratings = Rate.query.filter_by(post_id=post_id).all()\n",
    "            ratings_list = [{\"rating_id\": r.id,\"user_id\": r.user_id, \"rating\": r.value} for r in ratings]\n",
    "            return jsonify(ratings_list)\n",
    "\n",
    "        \n",
    "        @token_required()\n",
    "        def put(self):\n",
    "            current_user = g.current_user\n",
    "            data = request.get_json()\n",
    "            rating_id = data.get('rating_id')\n",
    "            new_rating_value = data.get('rating')\n",
    "\n",
    "            if rating_id is None or new_rating_value is None:\n",
    "                return jsonify({\"message\": \"rating_id and new rating value are required\"}), 400\n",
    "\n",
    "            # Find the rating by ID and ensure it belongs to the current user\n",
    "            rating = Rate.query.filter_by(id=rating_id, user_id=current_user.id).first()\n",
    "\n",
    "            if not rating:\n",
    "                return jsonify({\"message\": \"Rating not found or not authorized\"}), 404\n",
    "\n",
    "            # Update the rating value\n",
    "            rating.value = new_rating_value\n",
    "            db.session.commit()\n",
    "\n",
    "            return jsonify({\"message\": \"Rating updated successfully\"})\n",
    "        \n",
    "        @token_required()\n",
    "        def delete(self):\n",
    "            current_user = g.current_user\n",
    "            data = request.get_json()\n",
    "            rating_id = data.get('rating_id')\n",
    "\n",
    "            if rating_id is None:\n",
    "                return jsonify({\"message\": \"rating_id is required\"}), 400\n",
    "\n",
    "            rating = Rate.query.filter_by(user_id=current_user.id, id=rating_id).first()\n",
    "            if rating:\n",
    "                db.session.delete(rating)\n",
    "                db.session.commit()\n",
    "                return jsonify({\"message\": \"Rating deleted successfully\"})\n",
    "            else:\n",
    "                return jsonify({\"message\": \"Rating not found\"}), 404"
   ]
  },
  {
   "cell_type": "markdown",
   "metadata": {},
   "source": [
    "#### Post\n",
    "The post creates an entry with a new rating\n",
    "\n",
    "#### Get\n",
    "The get queries and searches for a rating associated with an ID then returns that rating value\n",
    "\n",
    "#### Put\n",
    "The PUT queries for a particular rating ID and updates/changes the rating stored for that ID\n",
    "\n",
    "#### Delete\n",
    "Delete searches for a certain ID and deletes that row from the table."
   ]
  },
  {
   "cell_type": "markdown",
   "metadata": {},
   "source": [
    "### Put Method with Sequencing, Selection, and Iteration"
   ]
  },
  {
   "cell_type": "code",
   "execution_count": null,
   "metadata": {},
   "outputs": [],
   "source": [
    "def put(self):\n",
    "    current_user = g.current_user\n",
    "    data = request.get_json()\n",
    "    rating_id = data.get('rating_id')\n",
    "    new_rating_value = data.get('rating')\n",
    "\n",
    "    if rating_id is None or new_rating_value is None:\n",
    "        return jsonify({\"message\": \"rating_id and new rating value are required\"}), 400\n",
    "\n",
    "    # Find the rating by ID and ensure it belongs to the current user\n",
    "    rating = Rate.query.filter_by(id=rating_id, user_id=current_user.id).first()\n",
    "\n",
    "    if not rating:\n",
    "        return jsonify({\"message\": \"Rating not found or not authorized\"}), 404\n",
    "\n",
    "    # Update the rating value\n",
    "    rating.value = new_rating_value\n",
    "    db.session.commit()\n",
    "\n",
    "    return jsonify({\"message\": \"Rating updated successfully\"})"
   ]
  },
  {
   "cell_type": "markdown",
   "metadata": {},
   "source": [
    "The PUT method in the class shows sequencing through its retrieval of data, then its validation, and error handling, and then the interaction with the database.\n",
    "\n",
    "In addition, it shows selection through the if statements, which help decide whether the data is fit to be entered into the table or not, contributing to the error handling.\n",
    "\n",
    "Finally it shows iteration through the query of the database, where each row of the table is iterated through to find one with the right ID and user ID."
   ]
  },
  {
   "cell_type": "markdown",
   "metadata": {},
   "source": [
    "#### Parameter\n",
    "The data is the parameter, which has the rating_id and new rating which needs to be updated\n",
    "\n",
    "##### Return Type\n",
    "The return type is a JSON, of the message indicating that either the rating has been updated successfully or whether there is an error."
   ]
  },
  {
   "cell_type": "markdown",
   "metadata": {},
   "source": [
    "## Call to Algorithm Request"
   ]
  },
  {
   "cell_type": "markdown",
   "metadata": {},
   "source": [
    "### Update Rate Fetch to Endpoint"
   ]
  },
  {
   "cell_type": "code",
   "execution_count": null,
   "metadata": {
    "vscode": {
     "languageId": "javascript"
    }
   },
   "outputs": [],
   "source": [
    "async function updateRate(index, newRating) {\n",
    "        console.log(index)\n",
    "        try {\n",
    "            const response = await fetch(`${pythonURI}/api/rate`, {\n",
    "                method: 'PUT',\n",
    "                headers: { \n",
    "                    'Accept': 'application/json',\n",
    "                    'Content-Type': 'application/json',\n",
    "                },\n",
    "                body: JSON.stringify({\n",
    "                    rating_id: index.rating_id,  // Use the correct ID for the rating to update\n",
    "                    rating: newRating  // Pass the new rating value\n",
    "                }),\n",
    "            });\n",
    "\n",
    "            if (!response.ok) {\n",
    "                console.error('Failed to update rating:', response.statusText);\n",
    "                return;\n",
    "            }\n",
    "            fetchAndDisplayRating();\n",
    "            createRatingsTable();\n",
    "        } catch (error) {\n",
    "            console.error(\"Error updating rating:\", error);\n",
    "        }\n",
    "    }"
   ]
  },
  {
   "cell_type": "markdown",
   "metadata": {},
   "source": [
    "#### Explain:\n",
    "This function called Update rate sends a put request, and uses the particular ID for the rating we want to change, an stores the new rating that is being updated and sends this to the backend which updates that row with an ID with the new rating.\n",
    "Then it checks the response for that request and sends an error if it doesn't work. Then it makes sure to fetch these new entires and make a table with them."
   ]
  },
  {
   "cell_type": "markdown",
   "metadata": {},
   "source": [
    "\n",
    "#### Call/Request: \n",
    "The updateRate function on the Frontend, sends a 'PUT' request to the /api/rate endpoint.\n",
    "\n",
    "#### Response: \n",
    "The response from the backend indicates that the request is successful or not, and this is prompted on the Frontend for the user."
   ]
  },
  {
   "cell_type": "markdown",
   "metadata": {},
   "source": [
    "### Error Handling:\n",
    "\n",
    "#### Normal Case: \n",
    "\n",
    "The rating is updated, and this is refreshed and updated on the frontend page.\n",
    "\n",
    "#### Error Case:\n",
    "\n",
    " If the specific rating that is trying to be deleted is not found, or there is another error, the user will be prompted that there was an error updating the rating."
   ]
  }
 ],
 "metadata": {
  "language_info": {
   "name": "python"
  }
 },
 "nbformat": 4,
 "nbformat_minor": 2
}
