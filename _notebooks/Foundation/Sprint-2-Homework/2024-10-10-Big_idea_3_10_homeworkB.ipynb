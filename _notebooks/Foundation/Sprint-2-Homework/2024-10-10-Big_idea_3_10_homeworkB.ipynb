{
 "cells": [
  {
   "cell_type": "raw",
   "metadata": {
    "vscode": {
     "languageId": "raw"
    }
   },
   "source": [
    "---\n",
    "layout: post\n",
    "title: 3.10 B Homework and Popcorn Hacks\n",
    "description:  3.10 B Homework and Popcorn Hacks\n",
    "type: issues\n",
    "comments: true\n",
    "---"
   ]
  },
  {
   "cell_type": "markdown",
   "metadata": {},
   "source": [
    "# "
   ]
  },
  {
   "cell_type": "markdown",
   "metadata": {},
   "source": [
    "# Popcorn Hack #1"
   ]
  },
  {
   "cell_type": "code",
   "execution_count": 1,
   "metadata": {
    "vscode": {
     "languageId": "javascript"
    }
   },
   "outputs": [
    {
     "data": {
      "application/javascript": "// define a array of fruits\nlet fruits = ['apple', 'banana', 'cherry', 'orange', 'kiwi', 'melon', 'mango'];\n\n// reverse the array\nfruits.reverse();\n\n// print the reversed array\nconsole.log(fruits);\n",
      "text/plain": [
       "<IPython.core.display.Javascript object>"
      ]
     },
     "metadata": {},
     "output_type": "display_data"
    }
   ],
   "source": [
    "%%js\n",
    "// define a array of fruits\n",
    "let fruits = ['apple', 'banana', 'cherry', 'orange', 'kiwi', 'melon', 'mango'];\n",
    "\n",
    "// reverse the array\n",
    "fruits.reverse();\n",
    "\n",
    "// print the reversed array\n",
    "console.log(fruits);"
   ]
  },
  {
   "cell_type": "markdown",
   "metadata": {},
   "source": [
    "# Popcorn Hack #2"
   ]
  },
  {
   "cell_type": "code",
   "execution_count": 2,
   "metadata": {
    "vscode": {
     "languageId": "javascript"
    }
   },
   "outputs": [
    {
     "data": {
      "application/javascript": "// define a array of fruits\nlet ogfruits = ['apple', 'banana', 'cherry', 'orange', 'kiwi', 'melon', 'mango'];\nlet newFruits = [\"watermelon\", \"grape\", \"strawberry\", \"blueberry\", \"peach\", \"pear\", \"plum\"];\n\n// add the newFruits array to the ogFruits array using the spread operator\nogFruits.push(...newFruits);\nconsole.log(ogFruits);\n\n// add the ogFruits array to the newFruits array using the unshift method\nnewFruits.unshift(ogFruits);\n",
      "text/plain": [
       "<IPython.core.display.Javascript object>"
      ]
     },
     "metadata": {},
     "output_type": "display_data"
    }
   ],
   "source": [
    "%%js\n",
    "// define a array of fruits\n",
    "let ogfruits = ['apple', 'banana', 'cherry', 'orange', 'kiwi', 'melon', 'mango'];\n",
    "let newFruits = [\"watermelon\", \"grape\", \"strawberry\", \"blueberry\", \"peach\", \"pear\", \"plum\"];\n",
    "\n",
    "// add the newFruits array to the ogFruits array using the spread operator\n",
    "ogFruits.push(...newFruits);\n",
    "console.log(ogFruits);\n",
    "\n",
    "// add the ogFruits array to the newFruits array using the unshift method\n",
    "newFruits.unshift(ogFruits);"
   ]
  },
  {
   "cell_type": "markdown",
   "metadata": {},
   "source": [
    "# Popcorn Hack #3"
   ]
  },
  {
   "cell_type": "code",
   "execution_count": 3,
   "metadata": {
    "vscode": {
     "languageId": "javascript"
    }
   },
   "outputs": [
    {
     "data": {
      "application/javascript": "// define a array of fruits\nvar fruitNames = [\"apple\", \"banana\", \"cherry\", \"orange\", \"kiwi\", \"melon\", \"mango\"];\n\n// filter the array to only include fruits with names longer than 5 characters\nvar longNames = fruitsNames.filter(fruitnames => fruitnames.length > 5);\n\n// print the longNames array\nconsole.log(longNames);\n",
      "text/plain": [
       "<IPython.core.display.Javascript object>"
      ]
     },
     "metadata": {},
     "output_type": "display_data"
    }
   ],
   "source": [
    "%%js \n",
    "// define a array of fruits\n",
    "var fruitNames = [\"apple\", \"banana\", \"cherry\", \"orange\", \"kiwi\", \"melon\", \"mango\"];\n",
    "\n",
    "// filter the array to only include fruits with names longer than 5 characters\n",
    "var longNames = fruitsNames.filter(fruitnames => fruitnames.length > 5);\n",
    "\n",
    "// print the longNames array\n",
    "console.log(longNames);"
   ]
  },
  {
   "cell_type": "markdown",
   "metadata": {},
   "source": [
    "# Popcorn Hack #1"
   ]
  },
  {
   "cell_type": "code",
   "execution_count": 4,
   "metadata": {},
   "outputs": [
    {
     "name": "stdout",
     "output_type": "stream",
     "text": [
      "[10, 50, 30, 29, 100, 28]\n"
     ]
    }
   ],
   "source": [
    "# define a list of integers\n",
    "list = [10,50,30,29,28]\n",
    "\n",
    "# insert 100 at the second to last of the list\n",
    "list.insert(-1, 100)\n",
    "\n",
    "# print the list\n",
    "print(list)"
   ]
  },
  {
   "cell_type": "markdown",
   "metadata": {},
   "source": [
    "# Popcorn Hack #2"
   ]
  },
  {
   "cell_type": "code",
   "execution_count": 5,
   "metadata": {},
   "outputs": [
    {
     "name": "stdout",
     "output_type": "stream",
     "text": [
      "['John', 'Paul', 'George', 'Ringo', 'Pete', 'Stuart']\n"
     ]
    }
   ],
   "source": [
    "# define 2 lists of names\n",
    "names = ['John', 'Paul', 'George', 'Ringo']\n",
    "more_names = ['Pete', 'Stuart']\n",
    "\n",
    "# extend the first list with the second list\n",
    "names.extend(more_names)\n",
    "\n",
    "# print the first list\n",
    "print(names)"
   ]
  },
  {
   "cell_type": "markdown",
   "metadata": {},
   "source": [
    "# Popcorn Hack #3"
   ]
  },
  {
   "cell_type": "code",
   "execution_count": 6,
   "metadata": {},
   "outputs": [
    {
     "name": "stdout",
     "output_type": "stream",
     "text": [
      "[10, 30]\n"
     ]
    }
   ],
   "source": [
    "# define a list of integers\n",
    "list = [10,50,30,29,28]\n",
    "\n",
    "# use 3 different methods to remove 3 items\n",
    "del list[1]\n",
    "list.remove(29)\n",
    "list.pop()\n",
    "\n",
    "\n",
    "# print the list\n",
    "print(list)"
   ]
  }
 ],
 "metadata": {
  "kernelspec": {
   "display_name": "venv",
   "language": "python",
   "name": "python3"
  },
  "language_info": {
   "codemirror_mode": {
    "name": "ipython",
    "version": 3
   },
   "file_extension": ".py",
   "mimetype": "text/x-python",
   "name": "python",
   "nbconvert_exporter": "python",
   "pygments_lexer": "ipython3",
   "version": "3.12.5"
  }
 },
 "nbformat": 4,
 "nbformat_minor": 2
}
