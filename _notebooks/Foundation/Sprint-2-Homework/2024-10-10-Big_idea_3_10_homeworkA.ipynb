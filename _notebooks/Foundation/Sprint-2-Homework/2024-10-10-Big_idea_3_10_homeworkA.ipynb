{
 "cells": [
  {
   "cell_type": "markdown",
   "metadata": {},
   "source": [
    "# Popcorn Hack #1"
   ]
  },
  {
   "cell_type": "code",
   "execution_count": 2,
   "metadata": {},
   "outputs": [
    {
     "name": "stdout",
     "output_type": "stream",
     "text": [
      "Your current shopping list is: ['fruits']\n",
      "Your current shopping list is: ['fruits', 'vegetables']\n",
      "Your current shopping list is: ['fruits', 'vegetables', 'oil']\n",
      "Your final shopping list is: ['fruits', 'vegetables', 'oil']\n",
      "fruits\n",
      "vegetables\n",
      "oil\n"
     ]
    }
   ],
   "source": [
    "def shopping_list():\n",
    "    # Create an empty list to store items\n",
    "    a_list = []\n",
    "\n",
    "    while True:\n",
    "        user_input = input(\"Enter an item you want to add to the shopping list (or 'q' to quit): \")\n",
    "\n",
    "        if user_input == 'q':\n",
    "            break\n",
    "\n",
    "        # TODO: Use the append operation to add the user input to the list\n",
    "        a_list.append(user_input)\n",
    "        # TODO: Print the current list after each append operation\n",
    "        print(f\"Your current shopping list is: {a_list}\")\n",
    "    # Final display of the shopping list\n",
    "    print(f\"Your final shopping list is: {a_list}\")\n",
    "    # TODO: Use a loop to display all the items in the list\n",
    "    for item in a_list:\n",
    "        print(item)\n",
    "\n",
    "shopping_list()"
   ]
  },
  {
   "cell_type": "markdown",
   "metadata": {},
   "source": [
    "# Popcorn Hack #1(Javascript Bonus)"
   ]
  },
  {
   "cell_type": "code",
   "execution_count": 1,
   "metadata": {
    "vscode": {
     "languageId": "javascript"
    }
   },
   "outputs": [
    {
     "data": {
      "application/javascript": "function shoppingList() {\n    // Create an empty array to store items\n    let aList = [];\n\n    while (true) {\n        let userInput = prompt(\"Enter an item you want to add to the shopping list (or 'q' to quit):\");\n\n        if (userInput === 'q') {\n            break;\n        }\n\n        // Append the user input to the array\n        aList.push(userInput);\n        // Print the current list after each append operation\n        console.log(`Your current shopping list is: ${aList}`);\n    }\n\n    // Final display of the shopping list\n    console.log(`Your final shopping list is: ${aList}`);\n    // Use a loop to display all the items in the list\n    for (let item of aList) {\n        console.log(item);\n    }\n}\n\nshoppingList();\n",
      "text/plain": [
       "<IPython.core.display.Javascript object>"
      ]
     },
     "metadata": {},
     "output_type": "display_data"
    }
   ],
   "source": [
    "%%js\n",
    "function shoppingList() {\n",
    "    // Create an empty array to store items\n",
    "    let aList = [];\n",
    "\n",
    "    while (true) {\n",
    "        let userInput = prompt(\"Enter an item you want to add to the shopping list (or 'q' to quit):\");\n",
    "\n",
    "        if (userInput === 'q') {\n",
    "            break;\n",
    "        }\n",
    "\n",
    "        // Append the user input to the array\n",
    "        aList.push(userInput);\n",
    "        // Print the current list after each append operation\n",
    "        console.log(`Your current shopping list is: ${aList}`);\n",
    "    }\n",
    "\n",
    "    // Final display of the shopping list\n",
    "    console.log(`Your final shopping list is: ${aList}`);\n",
    "    // Use a loop to display all the items in the list\n",
    "    for (let item of aList) {\n",
    "        console.log(item);\n",
    "    }\n",
    "}\n",
    "\n",
    "shoppingList();"
   ]
  },
  {
   "cell_type": "markdown",
   "metadata": {},
   "source": [
    "# Popcorn Hack (Assigning Values to a List and Finding Its Length)"
   ]
  },
  {
   "cell_type": "code",
   "execution_count": 2,
   "metadata": {},
   "outputs": [
    {
     "name": "stdout",
     "output_type": "stream",
     "text": [
      "7\n"
     ]
    }
   ],
   "source": [
    "# list of favorite foods\n",
    "favorite_foods = ['pizza', 'noodles', 'sushi', 'chocolate', 'tacos']\n",
    "\n",
    "# add more foods to the list\n",
    "favorite_foods.append('ice cream')\n",
    "favorite_foods.append('cake')\n",
    "\n",
    "# print the length of the new favorite foods list\n",
    "print(len(favorite_foods))"
   ]
  },
  {
   "cell_type": "markdown",
   "metadata": {},
   "source": [
    "# Popcorn Hack (Sum of Even Numbers)"
   ]
  },
  {
   "cell_type": "code",
   "execution_count": 3,
   "metadata": {},
   "outputs": [
    {
     "name": "stdout",
     "output_type": "stream",
     "text": [
      "The sum of the even numbers in the list is: 30\n"
     ]
    }
   ],
   "source": [
    "# Define a list of integers\n",
    "nums = [1, 2, 3, 4, 5, 6, 7, 8, 9, 10]\n",
    "#start the sum at 0\n",
    "sum = 0  \n",
    "\n",
    "# Loop through the list of numbers\n",
    "for num in nums:\n",
    "    # Check if the number is even\n",
    "    if num % 2 == 0:\n",
    "       sum += num  \n",
    "\n",
    "print(f\"The sum of the even numbers in the list is: {sum}\",)"
   ]
  },
  {
   "cell_type": "markdown",
   "metadata": {},
   "source": [
    "# Popcorn Hack: Look for Banana"
   ]
  },
  {
   "cell_type": "code",
   "execution_count": 7,
   "metadata": {
    "vscode": {
     "languageId": "javascript"
    }
   },
   "outputs": [
    {
     "data": {
      "application/javascript": "\n// Create an array of fruits\nlet fruits = [\"apple\", \"banana\", \"orange\"];\n\n// Check if the array contains \"banana\"\nif (fruits.includes(\"banana\")) {\n    console.log(\"Banana is in the array\");\n}\nelse {\n    console.log(\"Banana is not in the array\");\n}\n",
      "text/plain": [
       "<IPython.core.display.Javascript object>"
      ]
     },
     "metadata": {},
     "output_type": "display_data"
    }
   ],
   "source": [
    "%%js\n",
    "\n",
    "// Create an array of fruits\n",
    "let fruits = [\"apple\", \"banana\", \"orange\"];\n",
    "\n",
    "// Check if the array contains \"banana\"\n",
    "if (fruits.includes(\"banana\")) {\n",
    "    console.log(\"Banana is in the array\");\n",
    "}\n",
    "else {\n",
    "    console.log(\"Banana is not in the array\");\n",
    "}"
   ]
  },
  {
   "cell_type": "markdown",
   "metadata": {},
   "source": [
    "# Homework Hack #1"
   ]
  },
  {
   "cell_type": "code",
   "execution_count": 5,
   "metadata": {},
   "outputs": [
    {
     "name": "stdout",
     "output_type": "stream",
     "text": [
      "20\n"
     ]
    }
   ],
   "source": [
    "# Create a list of numbers\n",
    "list = []\n",
    "\n",
    "# Add numbers to the list\n",
    "for i in range (5):\n",
    "    list.append((i+1)*10)\n",
    "#\n",
    "print(list[1])"
   ]
  }
 ],
 "metadata": {
  "kernelspec": {
   "display_name": "venv",
   "language": "python",
   "name": "python3"
  },
  "language_info": {
   "codemirror_mode": {
    "name": "ipython",
    "version": 3
   },
   "file_extension": ".py",
   "mimetype": "text/x-python",
   "name": "python",
   "nbconvert_exporter": "python",
   "pygments_lexer": "ipython3",
   "version": "3.12.5"
  }
 },
 "nbformat": 4,
 "nbformat_minor": 2
}
