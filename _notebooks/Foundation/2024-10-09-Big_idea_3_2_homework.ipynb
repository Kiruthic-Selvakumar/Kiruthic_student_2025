{
 "cells": [
  {
   "cell_type": "markdown",
   "metadata": {},
   "source": [
    "# Popcorn Hack #1"
   ]
  },
  {
   "cell_type": "code",
   "execution_count": 1,
   "metadata": {
    "vscode": {
     "languageId": "javascript"
    }
   },
   "outputs": [
    {
     "data": {
      "application/javascript": "// define a array of fruits\nlet fruits = ['apple', 'banana', 'cherry', 'orange', 'kiwi', 'melon', 'mango'];\n\n// reverse the array\nfruits.reverse();\n\n// print the reversed array\nconsole.log(fruits);\n",
      "text/plain": [
       "<IPython.core.display.Javascript object>"
      ]
     },
     "metadata": {},
     "output_type": "display_data"
    }
   ],
   "source": [
    "%%js\n",
    "// define a array of fruits\n",
    "let fruits = ['apple', 'banana', 'cherry', 'orange', 'kiwi', 'melon', 'mango'];\n",
    "\n",
    "// reverse the array\n",
    "fruits.reverse();\n",
    "\n",
    "// print the reversed array\n",
    "console.log(fruits);"
   ]
  }
 ],
 "metadata": {
  "kernelspec": {
   "display_name": "venv",
   "language": "python",
   "name": "python3"
  },
  "language_info": {
   "codemirror_mode": {
    "name": "ipython",
    "version": 3
   },
   "file_extension": ".py",
   "mimetype": "text/x-python",
   "name": "python",
   "nbconvert_exporter": "python",
   "pygments_lexer": "ipython3",
   "version": "3.12.5"
  }
 },
 "nbformat": 4,
 "nbformat_minor": 2
}
