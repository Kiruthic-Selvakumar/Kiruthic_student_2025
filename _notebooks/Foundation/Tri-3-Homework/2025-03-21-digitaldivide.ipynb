{
 "cells": [
  {
   "cell_type": "raw",
   "metadata": {
    "vscode": {
     "languageId": "raw"
    }
   },
   "source": [
    "---\n",
    "layout: post\n",
    "title: Digital Divide Homework\n",
    "---"
   ]
  },
  {
   "cell_type": "markdown",
   "metadata": {},
   "source": [
    "# Essay Questions"
   ]
  },
  {
   "cell_type": "markdown",
   "metadata": {
    "vscode": {
     "languageId": "javascript"
    }
   },
   "source": [
    "\n",
    "### 3. Analyze how the COVID-19 pandemic exposed and potentially exacerbated existing digital divides. Include at least three specific examples.\n",
    "\n",
    "<br>\n",
    "\n",
    "The COVID=19 pandemic exposed the digital divide a lot because of the increased dependence on technology. An example of this is for learning, and as covid limited in person schooling many learning institutions switched over to online methods via zoom call. This made it necessary that students have devices in order to ain access to learning, so those without proper internet connection or capable devices would be prevented from learning, increasing the digital divide. In addition, covid-19 increased the digital divide through healthcare and telemedicine access because during the COVID-19 pandemic it was not possible for some to go to hospitals due to the risk of getting infected with disease, so many people had to schedule online appointments with their physicians, and those without devices couldn't gain access to this healthcare increasig digital divide. Lastly, this could have negatively impacted work oppurtunities because many in-person jobs decreased and there were mostly remote-work. So people who couldn't work from home due to internet contraints couldn't get jobs, increasing the digital divide.\n",
    "\n",
    "\n"
   ]
  },
  {
   "cell_type": "markdown",
   "metadata": {},
   "source": [
    "\n",
    "### 4. Explain how economic factors contribute to the digital divide and propose policy solutions that might address these economic barriers.\n",
    "\n",
    "<br>\n",
    "\n",
    "Economic factors, like the cost of the equipment, cost for internet services, and poor digital literacy rates, add up and contribute to the growing digital divide. Lower-income families are unable to pay for the equipment and internet access that is needed, and so they are left without access to education, work, and social opportunities. Inequities also exist geographically, with rural areas having expensive or nonexistent internet access. To bridge these barriers, policy interventions could include providing poor families' internet access and devices, investment in digital literacy initiatives and free lessons, and deployment of broadband infrastructure in poor neighborhoods. Additionally, the including of initiatives and support for small businesses in digitization can help bridge the economic gap in the digital economy there.\n",
    "\n"
   ]
  },
  {
   "cell_type": "markdown",
   "metadata": {},
   "source": [
    "## Running Code Snippets(online JS compiler)"
   ]
  },
  {
   "cell_type": "markdown",
   "metadata": {},
   "source": [
    "<img src=\"{{site.baseurl}}/images/firstcodesnippetrun.png\">\n",
    "\n",
    "<br>\n",
    "<br>\n",
    "\n",
    "<img src=\"{{site.baseurl}}/images/secondcodesnippetrun.png\">"
   ]
  },
  {
   "cell_type": "markdown",
   "metadata": {},
   "source": [
    "## Extra Credit\n",
    "\n",
    "Statistics:( Russia vs Sudan)\n",
    " - Internet Penetration: 85% vs 31 %\n",
    " - Mobile Device Access: 89% vs 57 %\n",
    " - Average Internet Speed: 73.9 Mbps vs 15.4 Mbps\n",
    " - Digital Literacy: 68% vs 26%\n",
    "\n",
    "Russia has much greater access to the internet, faster internet speeds and a more informed populace with digital literacy, allowing for greater use of devices.\n",
    "\n",
    "#### Implications:\n",
    "\n",
    "A lack of digital use in Sudan leads to limited economic growth, as businesses sometimes have to struggle in order to reach global markets and gain innovative technologies. The digital divide also increases social inequalities which leaves many without access to education, healthcare, and government services. Additionally, low digital literacy rates seen in the statistics and slow internet speeds inhibit watching the news and political engagement, leaving Sudan vulnerable to misinformation, cyber threats, and reduced participation in global conversations.\n",
    "\n",
    "#### Solutions:\n",
    "\n",
    "To address these issues Sudan could invest in expanding its internet infrastructure and improving mobile network coverage, especially in rural areas. They should focus toward establishing a bare minimum in all places even if there are subpar internt speeds without great bandwith, the bare minimum is an improvement from what they have. In addition, thye should establish community centers with devices and maybe televisions for a community where people can gather to use technology even if they don't own devices. This could be much more feasible for the Sudan government because they could hsot digital literacy lessons at these community centers with technology and not have to invest or provide every citizen with a device, making it much more reasonable.\n",
    "\n",
    "<br>\n",
    "\n",
    "<img src=\"{{site.baseurl}}/images/russia.png\">\n",
    "\n",
    "<br>\n",
    "<br>\n",
    "\n",
    "<img src=\"{{site.baseurl}}/images/sudan.png\">\n"
   ]
  },
  {
   "cell_type": "markdown",
   "metadata": {},
   "source": []
  }
 ],
 "metadata": {
  "language_info": {
   "name": "python"
  }
 },
 "nbformat": 4,
 "nbformat_minor": 2
}
