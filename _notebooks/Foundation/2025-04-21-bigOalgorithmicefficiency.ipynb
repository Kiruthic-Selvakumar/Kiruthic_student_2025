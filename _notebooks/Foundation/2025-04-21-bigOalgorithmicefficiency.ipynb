{
 "cells": [
  {
   "cell_type": "markdown",
   "metadata": {},
   "source": [
    "---\n",
    "layout: post\n",
    "title: Big O and Algorithmic Efficiency Homework\n",
    "---"
   ]
  },
  {
   "cell_type": "code",
   "execution_count": 2,
   "metadata": {},
   "outputs": [
    {
     "name": "stdout",
     "output_type": "stream",
     "text": [
      "O(1) Example: 30\n",
      "O(log n) Example: 4\n",
      "O(n) Example: 9\n",
      "O(n²) Example: [2, 3, 5, 6, 8]\n"
     ]
    }
   ],
   "source": [
    "\n",
    "def constant_time_example():\n",
    "\n",
    "    my_list = [10, 20, 30, 40, 50]\n",
    "    return my_list[2]  # Always takes the same time regardless of list size\n",
    "def logarithmic_time_example():\n",
    "    # O(log n) - Binary search in a sorted list\n",
    "    def binary_search(arr, target):\n",
    "        low, high = 0, len(arr) - 1\n",
    "        while low <= high:\n",
    "            mid = (low + high) // 2\n",
    "            if arr[mid] == target:\n",
    "                return mid\n",
    "            elif arr[mid] < target:\n",
    "                low = mid + 1\n",
    "            else:\n",
    "                high = mid - 1\n",
    "        return -1\n",
    "\n",
    "    sorted_list = [1, 2, 3, 4, 5, 6, 7, 8, 9, 10]\n",
    "    return binary_search(sorted_list, 5)  # Takes logarithmic time\n",
    "def linear_time_example():\n",
    "    # O(n) - Finding the maximum element in a list\n",
    "    my_list = [1, 3, 5, 7, 9]\n",
    "    max_value = my_list[0]\n",
    "    for num in my_list:\n",
    "        if num > max_value:\n",
    "            max_value = num\n",
    "    return max_value  # Takes time proportional to the size of the list\n",
    "def quadratic_time_example():\n",
    "    # O(n²) - Bubble sort algorithm\n",
    "    def bubble_sort(arr):\n",
    "        n = len(arr)\n",
    "        for i in range(n):\n",
    "            for j in range(0, n-i-1):\n",
    "                if arr[j] > arr[j+1]:\n",
    "                    arr[j], arr[j+1] = arr[j+1], arr[j]\n",
    "        return arr\n",
    "\n",
    "    unsorted_list = [5, 3, 8, 6, 2]\n",
    "    return bubble_sort(unsorted_list)  # Takes time proportional to the square of the size of the list\n",
    "# Execute the examples\n",
    "\n",
    "print(\"O(1) Example:\", constant_time_example())\n",
    "print(\"O(log n) Example:\", logarithmic_time_example())\n",
    "print(\"O(n) Example:\", linear_time_example())\n",
    "print(\"O(n²) Example:\", quadratic_time_example())"
   ]
  }
 ],
 "metadata": {
  "kernelspec": {
   "display_name": "venv",
   "language": "python",
   "name": "python3"
  },
  "language_info": {
   "codemirror_mode": {
    "name": "ipython",
    "version": 3
   },
   "file_extension": ".py",
   "mimetype": "text/x-python",
   "name": "python",
   "nbconvert_exporter": "python",
   "pygments_lexer": "ipython3",
   "version": "3.12.5"
  }
 },
 "nbformat": 4,
 "nbformat_minor": 2
}
