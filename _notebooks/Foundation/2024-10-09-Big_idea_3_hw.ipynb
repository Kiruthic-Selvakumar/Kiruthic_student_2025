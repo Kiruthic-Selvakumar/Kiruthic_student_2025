{
 "cells": [
  {
   "cell_type": "raw",
   "metadata": {
    "vscode": {
     "languageId": "raw"
    }
   },
   "source": [
    "---\n",
    "layout: post\n",
    "title: Popcorn Hack Test\n",
    "description: Popcorn Hack Test\n",
    "type: issues\n",
    "comments: true\n",
    "---"
   ]
  },
  {
   "cell_type": "markdown",
   "metadata": {},
   "source": [
    "# Popcorn Hack"
   ]
  },
  {
   "cell_type": "code",
   "execution_count": null,
   "metadata": {
    "vscode": {
     "languageId": "javascript"
    }
   },
   "outputs": [],
   "source": [
    "%%js\n",
    "// define a array of fruits\n",
    "let fruits = ['apple', 'banana', 'cherry', 'orange', 'kiwi', 'melon', 'mango'];\n",
    "\n",
    "// reverse the array\n",
    "fruits.reverse();\n",
    "\n",
    "// print the reversed array\n",
    "console.log(fruits);"
   ]
  }
 ],
 "metadata": {
  "language_info": {
   "name": "python"
  }
 },
 "nbformat": 4,
 "nbformat_minor": 2
}
