{
 "cells": [
  {
   "cell_type": "raw",
   "metadata": {
    "vscode": {
     "languageId": "raw"
    }
   },
   "source": [
    "---\n",
    "layout: post\n",
    "title: Big Idea 2\n",
    "---"
   ]
  },
  {
   "cell_type": "markdown",
   "metadata": {},
   "source": [
    "<img src=\"{{site.baseurl}}/images/bigidea2.png\" height=\"200px\">"
   ]
  },
  {
   "cell_type": "markdown",
   "metadata": {},
   "source": [
    "# 1. Database Management with SQLite:"
   ]
  },
  {
   "cell_type": "markdown",
   "metadata": {},
   "source": [
    "<img src=\"{{site.baseurl}}/images/thedatabaserates.png\" height=\"525px\">"
   ]
  },
  {
   "cell_type": "markdown",
   "metadata": {},
   "source": [
    "### \"rates\" Table Columns, and data management/organization\n",
    " - This is my Rate table in the database, which stores a unique rating_id in the first column which is different for each rating. \n",
    "\n",
    " - It stores the actual value or \"rating\" which are integers from 1-10 in one column. \n",
    "\n",
    " - It stores the user_id associated with the user that created that rating, and when joined with the user.py api, the username can be found which is associated with each rating. \n",
    "\n",
    " - There is also a column for post_id, and each attraction that there is a rating for will have its own post_id, so al the eiffel tower ratings will be in post_id 1, the louvre ratings will be in post_id 2, etc...\n",
    "\n"
   ]
  },
  {
   "cell_type": "code",
   "execution_count": null,
   "metadata": {},
   "outputs": [],
   "source": [
    "__tablename__ = 'rates'\n",
    "\n",
    "id = db.Column(db.Integer, primary_key=True)\n",
    "value = db.Column(db.Integer, nullable=False)  # Rating value (1-10)\n",
    "user_id = db.Column(db.Integer, db.ForeignKey('users.id'), nullable=False)\n",
    "post_id = db.Column(db.Integer, db.ForeignKey('posts.id'), nullable=False)\n",
    "\n",
    "def __init__(self, value, user_id, post_id):\n",
    "    self.value = value\n",
    "    self.user_id = user_id\n",
    "    self.post_id = post_id"
   ]
  },
  {
   "cell_type": "markdown",
   "metadata": {
    "vscode": {
     "languageId": "raw"
    }
   },
   "source": [
    "### The Code\n",
    "In my \"rate\" api's model file I have defined the different columns, and where each value that is entered should go on the table, as well as what type of data should be in each.\n",
    " - For instance, all of my data is stored as integers"
   ]
  },
  {
   "cell_type": "markdown",
   "metadata": {},
   "source": [
    "# 2. Data Upload and Storage"
   ]
  },
  {
   "cell_type": "markdown",
   "metadata": {},
   "source": [
    "#### Retrieving Data from the Request"
   ]
  },
  {
   "cell_type": "code",
   "execution_count": null,
   "metadata": {},
   "outputs": [],
   "source": [
    "def post(self):\n",
    "    # Retrieve data from the request\n",
    "    current_user = g.current_user\n",
    "    data = request.get_json()\n",
    "    post_id = data.get('post_id')\n",
    "    rating_value = data.get('rating')"
   ]
  },
  {
   "cell_type": "markdown",
   "metadata": {},
   "source": [
    "#### Data(Rating) Validation"
   ]
  },
  {
   "cell_type": "code",
   "execution_count": null,
   "metadata": {},
   "outputs": [],
   "source": [
    "\n",
    "# Validate the input\n",
    "if post_id is None or rating_value is None:\n",
    "    return jsonify({\"message\": \"post_id and rating are required\"}), 400\n",
    "\n",
    "try:\n",
    "    rating_value = int(rating_value)\n",
    "except ValueError:\n",
    "    return jsonify({\"message\": \"Rating must be an integer\"}), 400\n",
    "\n",
    "if not (1 <= rating_value <= 10):\n",
    "    return jsonify({\"message\": \"Rating must be between 1 and 10\"}), 400\n",
    "    \n"
   ]
  },
  {
   "cell_type": "markdown",
   "metadata": {},
   "source": [
    "#### Adding the data to the table"
   ]
  },
  {
   "cell_type": "code",
   "execution_count": null,
   "metadata": {},
   "outputs": [],
   "source": [
    "# Create a new rating entry\n",
    "rating = Rate(user_id=current_user.id, post_id=post_id, value=rating_value)\n",
    "db.session.add(rating)\n",
    "db.session.commit()\n",
    "\n",
    "return jsonify({\"message\": \"Rating submitted successfully\"})"
   ]
  },
  {
   "cell_type": "markdown",
   "metadata": {},
   "source": [
    "- Takes in data from the request\n",
    "\n",
    "- Then, validates whether the rating and other data is valid, and ready to add to the table\n",
    "\n",
    "- Adds the data to the table, formatting it into columns with\n",
    "    - user_id\n",
    "    - post_id\n",
    "    - value(rating)\n",
    "\n",
    "\n",
    "Thus, the rating is successfully added to the table, and linked with the post_id(\"eiffel tower\", \"louvre\", etc.), and also linke with the specific user_id(user who added the rating)."
   ]
  },
  {
   "cell_type": "code",
   "execution_count": null,
   "metadata": {},
   "outputs": [],
   "source": []
  },
  {
   "cell_type": "markdown",
   "metadata": {},
   "source": [
    "# 3. Data Security"
   ]
  },
  {
   "cell_type": "code",
   "execution_count": null,
   "metadata": {},
   "outputs": [],
   "source": [
    "if rating.Rate.user_id == current_user.id or current_user.role == 'Admin':\n",
    "    # Ensure the rating belongs to the current user\n",
    "    rating = Rate.query.filter_by(id=rating_id).first()\n",
    "    if rating:\n",
    "        db.session.delete(rating)\n",
    "        db.session.commit()\n",
    "        return jsonify({\"message\": \"Rating deleted successfully\"})\n",
    "    else:\n",
    "        return jsonify({\"message\": \"Rating not found\"}), 404"
   ]
  },
  {
   "cell_type": "markdown",
   "metadata": {},
   "source": [
    "#### Users: Admin vs User"
   ]
  },
  {
   "cell_type": "markdown",
   "metadata": {},
   "source": [
    "This is a code segment from the delete request in my rate API, and it helps create security for the data on the website.\n",
    "\n",
    " - Only Admin users can delete messages from all user\n",
    " - Normal Users can only delete their own messages\n",
    "\n",
    "The same ideas apply to the put(update) method because the update and delete methods are the only ones which modify the existing data, and this can cause data security concerns, because if a nromal user was allowed to delete all the ratings all of the data could be gone, but here only restricted admin users can. \n",
    "\n",
    "However, anyone can post or get, allowing all users to create ratings and view the current ratings."
   ]
  },
  {
   "cell_type": "code",
   "execution_count": null,
   "metadata": {},
   "outputs": [],
   "source": [
    "@token_required()"
   ]
  },
  {
   "cell_type": "markdown",
   "metadata": {},
   "source": [
    "#### Token Required\n",
    "\n",
    "All users who are trying to access the data, or create a rating, view ratings, update their ratings, and delte their ratings must be logged in, and the token required feature allows for that, and prevents users not logged in from accessing the data."
   ]
  },
  {
   "cell_type": "markdown",
   "metadata": {},
   "source": [
    "# 4. Data Retrieval and Display"
   ]
  },
  {
   "cell_type": "markdown",
   "metadata": {},
   "source": [
    "### Get Request"
   ]
  },
  {
   "cell_type": "markdown",
   "metadata": {},
   "source": [
    "#### Retrieve data from the frontend"
   ]
  },
  {
   "cell_type": "code",
   "execution_count": null,
   "metadata": {},
   "outputs": [],
   "source": [
    "post_id = request.args.get('post_id')"
   ]
  },
  {
   "cell_type": "markdown",
   "metadata": {},
   "source": [
    "#### Validate the data"
   ]
  },
  {
   "cell_type": "code",
   "execution_count": null,
   "metadata": {},
   "outputs": [],
   "source": [
    "if not post_id:\n",
    "    return jsonify({\"message\": \"post_id is required\"}), 400"
   ]
  },
  {
   "cell_type": "markdown",
   "metadata": {},
   "source": [
    "#### Queries"
   ]
  },
  {
   "cell_type": "code",
   "execution_count": null,
   "metadata": {},
   "outputs": [],
   "source": [
    "\n",
    "ratings = db.session.query(Rate, User).join(User, Rate.user_id == User.id).filter(Rate.post_id == post_id).all()\n",
    "ratings_list = [{\"rating_id\": r.Rate.id, \"username\": r.User._name, \"rating\": r.Rate.value} for r in ratings]\n",
    "\n",
    "return jsonify(ratings_list"
   ]
  },
  {
   "cell_type": "markdown",
   "metadata": {},
   "source": [
    "\n",
    "THe code queries through the \"rates\" table, and returns all of the rating_ids, usernames, and the actual rating values associated with each rating."
   ]
  },
  {
   "cell_type": "markdown",
   "metadata": {},
   "source": [
    "#### Frontend Code"
   ]
  },
  {
   "cell_type": "code",
   "execution_count": null,
   "metadata": {
    "vscode": {
     "languageId": "javascript"
    }
   },
   "outputs": [],
   "source": [
    "const response = await fetch(`${pythonURI}/api/rate?post_id=${POST_ID}`, fetchOptions);\n",
    "const data = await response.json();"
   ]
  },
  {
   "cell_type": "markdown",
   "metadata": {},
   "source": [
    "The code recieves the data associaed with a particular post_id in the backend in the form of a json, which it can then use to display on the frontend.\n",
    "\n"
   ]
  },
  {
   "cell_type": "markdown",
   "metadata": {},
   "source": [
    "### Displays on Frontend"
   ]
  },
  {
   "cell_type": "markdown",
   "metadata": {},
   "source": [
    "<img src=\"{{site.baseurl}}/images/testdata.png\" height=\"400px\">"
   ]
  }
 ],
 "metadata": {
  "language_info": {
   "name": "python"
  }
 },
 "nbformat": 4,
 "nbformat_minor": 2
}
