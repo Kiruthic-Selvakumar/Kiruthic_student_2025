{
 "cells": [
  {
   "cell_type": "markdown",
   "metadata": {},
   "source": [
    "---\n",
    "layout: post\n",
    "title:  Undecidable Probelms\n",
    "---"
   ]
  },
  {
   "cell_type": "code",
   "execution_count": 1,
   "metadata": {},
   "outputs": [
    {
     "name": "stdout",
     "output_type": "stream",
     "text": [
      "Path: [0, 1, 2, 3, 0]\n",
      "Total distance: 15.073467315212788\n"
     ]
    }
   ],
   "source": [
    "import math\n",
    "\n",
    "def distance(p1, p2):\n",
    "    return math.hypot(p1[0] - p2[0], p1[1] - p2[1])\n",
    "\n",
    "def nearest_neighbor_tsp(cities):\n",
    "    n = len(cities)\n",
    "    visited = [False] * n\n",
    "    path = [0]  # start at the first city\n",
    "    visited[0] = True\n",
    "    total_distance = 0\n",
    "\n",
    "    for _ in range(n - 1):\n",
    "        last = path[-1]\n",
    "        nearest = None\n",
    "        nearest_dist = float('inf')\n",
    "        for i in range(n):\n",
    "            if not visited[i]:\n",
    "                d = distance(cities[last], cities[i])\n",
    "                if d < nearest_dist:\n",
    "                    nearest = i\n",
    "                    nearest_dist = d\n",
    "        path.append(nearest)\n",
    "        visited[nearest] = True\n",
    "        total_distance += nearest_dist\n",
    "\n",
    "    # Return to start\n",
    "    total_distance += distance(cities[path[-1]], cities[0])\n",
    "    path.append(0)\n",
    "    \n",
    "    return path, total_distance\n",
    "\n",
    "# Example usage:\n",
    "cities = [(0, 0), (1, 3), (4, 3), (6, 1)]\n",
    "path, dist = nearest_neighbor_tsp(cities)\n",
    "print(\"Path:\", path)\n",
    "print(\"Total distance:\", dist)\n"
   ]
  },
  {
   "cell_type": "markdown",
   "metadata": {},
   "source": [
    "1. Another Undecidable Problem\n",
    "One example of another undecidable problem that I researched is the Post Correspondence Problem. If you have two lists of word pieces, and you're trying to arrange them using the same order of pieces from each list so that they make the exact same word. There no general way (no algorithm) that can always figure out if that's possible. Some cases are just too tricky, and no computer can solve every possible version of this, so it's undecidable.\n",
    "\n",
    "3. Real-World Example of Heuristics\n",
    "A good example of using a heuristic is Google Maps. When you ask it for the fastest way to get somewhere, it doesn’t try every single possible route—that would take forever. Instead, it uses shortcuts and smart guesses based on things like traffic, distance, and speed limits to find a good route quickly. An exact solution would take way too long, especially in big cities with thousands of roads."
   ]
  }
 ],
 "metadata": {
  "kernelspec": {
   "display_name": "venv",
   "language": "python",
   "name": "python3"
  },
  "language_info": {
   "codemirror_mode": {
    "name": "ipython",
    "version": 3
   },
   "file_extension": ".py",
   "mimetype": "text/x-python",
   "name": "python",
   "nbconvert_exporter": "python",
   "pygments_lexer": "ipython3",
   "version": "3.12.5"
  }
 },
 "nbformat": 4,
 "nbformat_minor": 2
}
