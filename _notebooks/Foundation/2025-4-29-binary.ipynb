{
 "cells": [
  {
   "cell_type": "markdown",
   "metadata": {},
   "source": [
    "---\n",
    "layout: post\n",
    "title:  Binary\n",
    "---"
   ]
  },
  {
   "cell_type": "code",
   "execution_count": 3,
   "metadata": {},
   "outputs": [
    {
     "name": "stdout",
     "output_type": "stream",
     "text": [
      "Choose:\n",
      "1. ADD\n",
      "2. SUBTRACT\n",
      "3. AND\n",
      "4. OR\n",
      "5. XOR\n",
      "6. Decimal to Binary (extra credit)\n",
      "Invalid binary input!\n"
     ]
    }
   ],
   "source": [
    "def binary_calculator():\n",
    "    \n",
    "    print(\"Choose:\")\n",
    "    print(\"1. ADD\")\n",
    "    print(\"2. SUBTRACT\")\n",
    "    print(\"3. AND\")\n",
    "    print(\"4. OR\")\n",
    "    print(\"5. XOR\")\n",
    "    print(\"6. Decimal to Binary (extra credit)\")\n",
    "\n",
    "    choice = input(\"Enter choice in the format(1-6): \")\n",
    "\n",
    "    if choice == '6':\n",
    "        dec = int(input(\"Enter decimal number: \"))\n",
    "        print(\"Binary:\", bin(dec)[2:])\n",
    "        return\n",
    "\n",
    "    binary1 = input(\"Enter first binary number: \")\n",
    "    binary2 = input(\"Enter second binary number: \")\n",
    "\n",
    "    try:\n",
    "        n1 = int(binary1, 2)\n",
    "        n2 = int(binary2, 2)\n",
    "    except ValueError:\n",
    "        print(\"Invalid binary input!\")\n",
    "        return\n",
    "\n",
    "    if choice == '1':\n",
    "        result = n1 + n2\n",
    "    elif choice == '2':\n",
    "        result = n1 - n2\n",
    "    elif choice == '3':\n",
    "        result = n1 & n2\n",
    "    elif choice == '4':\n",
    "        result = n1 | n2\n",
    "    elif choice == '5':\n",
    "        result = n1 ^ n2\n",
    "    else:\n",
    "        print(\"Invalid choice!\")\n",
    "        return\n",
    "\n",
    "    print(\"Result in binary:\", bin(result)[2:] if result >= 0 else '-' + bin(-result)[2:])\n",
    "\n",
    "binary_calculator()"
   ]
  }
 ],
 "metadata": {
  "kernelspec": {
   "display_name": "venv",
   "language": "python",
   "name": "python3"
  },
  "language_info": {
   "codemirror_mode": {
    "name": "ipython",
    "version": 3
   },
   "file_extension": ".py",
   "mimetype": "text/x-python",
   "name": "python",
   "nbconvert_exporter": "python",
   "pygments_lexer": "ipython3",
   "version": "3.12.5"
  }
 },
 "nbformat": 4,
 "nbformat_minor": 2
}
