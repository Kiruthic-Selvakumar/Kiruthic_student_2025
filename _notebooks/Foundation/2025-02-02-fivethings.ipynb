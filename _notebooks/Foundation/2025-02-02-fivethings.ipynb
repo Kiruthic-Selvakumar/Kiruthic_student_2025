{
 "cells": [
  {
   "cell_type": "raw",
   "metadata": {
    "vscode": {
     "languageId": "raw"
    }
   },
   "source": [
    "---\n",
    "layout: post\n",
    "title: DOCSE 5 Things\n",
    "---"
   ]
  },
  {
   "cell_type": "markdown",
   "metadata": {},
   "source": [
    "## 1. Planning Issues: Geared toward a functional and realistic goals"
   ]
  },
  {
   "cell_type": "markdown",
   "metadata": {},
   "source": [
    "<img src=\"{{site.baseurl}}/images/travelplanner.png\" height=\"400px\">\n",
    "<img src=\"{{site.baseurl}}/images/activityplanner.png\" height=\"400px\">\n",
    "\n"
   ]
  },
  {
   "cell_type": "markdown",
   "metadata": {},
   "source": [
    "All great projects start off with solid planning. In my scrum team I took the planning initiative and helped consolidate the role of each of my team members as well as brainstorming how their features fit in to the overall project. I helped make insightful contributions to planning issues and documented our progress."
   ]
  },
  {
   "cell_type": "markdown",
   "metadata": {},
   "source": [
    "## 2. My Burndowns and Checklists (Kanban)"
   ]
  },
  {
   "cell_type": "markdown",
   "metadata": {},
   "source": [
    "<img src=\"{{site.baseurl}}/images/kanban.png\" height=\"350px\">\n",
    "<img src=\"{{site.baseurl}}/images/initialchecklist.png\" height=\"275px\">\n",
    "<img src=\"{{site.baseurl}}/images/finalchecklist.png\" height=\"350px\">\n"
   ]
  },
  {
   "cell_type": "markdown",
   "metadata": {},
   "source": [
    "I managed our teams kanban board making sure our tasks were following the AGILE methodology and making sure each person was making progress on their burndowns as scrum master. In addition I made use of a few checklists and burndowns to keep track of my progress and make sure my feature is complete."
   ]
  },
  {
   "cell_type": "markdown",
   "metadata": {},
   "source": [
    "## 3. Creating an API with Dynamic and Static Functionality + Table in Database"
   ]
  },
  {
   "cell_type": "code",
   "execution_count": null,
   "metadata": {},
   "outputs": [],
   "source": [
    "import jwt\n",
    "from flask import Flask, Blueprint, request, jsonify, g\n",
    "from flask_restful import Api, Resource\n",
    "from flask_cors import CORS\n",
    "from datetime import datetime\n",
    "from __init__ import app, db  # Ensure db is imported\n",
    "from api.jwt_authorize import token_required\n",
    "from model.post import Post\n",
    "from model.rate import Rate\n",
    "from flask_cors import cross_origin  # Importing cross_origin\n",
    "from model.user import User\n",
    "\n",
    "\n",
    "# Define the Blueprint for the Rate API\n",
    "rate_api = Blueprint('rate_api', __name__, url_prefix='/api')\n",
    "#CORS(rate_api, supports_credentials=True)\n",
    "CORS(rate_api, supports_credentials=True, methods=['GET', 'POST', 'PUT', 'DELETE'])\n",
    "\n",
    "# Connect the Api object to the Blueprint\n",
    "api = Api(rate_api)\n",
    "\n",
    "class RateAPI:\n",
    "    \"\"\"\n",
    "    Define the API CRUD endpoints for the Rate model.\n",
    "    There are operations for creating and retrieving ratings for a post.\n",
    "    \"\"\"\n",
    "\n",
    "    class _CRUD(Resource):\n",
    "        @token_required()\n",
    "        @cross_origin(supports_credentials=True)  # Add this decorator to handle CORS for PUT requests\n",
    "        def post(self):\n",
    "            current_user = g.current_user\n",
    "            data = request.get_json()\n",
    "            post_id = data.get('post_id')\n",
    "            rating_value = data.get('rating')\n",
    "\n",
    "            if post_id is None or rating_value is None:\n",
    "                return jsonify({\"message\": \"post_id and rating are required\"}), 400\n",
    "\n",
    "            try:\n",
    "                rating_value = int(rating_value)\n",
    "            except ValueError:\n",
    "                return jsonify({\"message\": \"Rating must be an integer\"}), 400\n",
    "\n",
    "            if not (1 <= rating_value <= 10):\n",
    "                return jsonify({\"message\": \"Rating must be between 1 and 10\"}), 400\n",
    "\n",
    "            # Create a new rating entry\n",
    "            rating = Rate(user_id=current_user.id, post_id=post_id, value=rating_value)\n",
    "            db.session.add(rating)\n",
    "            db.session.commit()\n",
    "\n",
    "            return jsonify({\"message\": \"Rating submitted successfully\"})\n",
    "\n",
    "        @token_required()\n",
    "        def get(self):\n",
    "            \"\"\"\n",
    "            Retrieve ratings for a post.\n",
    "            \"\"\"\n",
    "            post_id = request.args.get('post_id')\n",
    "            if not post_id:\n",
    "                return jsonify({\"message\": \"post_id is required\"}), 400\n",
    "\n",
    "            ratings = db.session.query(Rate, User).join(User, Rate.user_id == User.id).filter(Rate.post_id == post_id).all()\n",
    "            ratings_list = [{\"rating_id\": r.Rate.id, \"username\": r.User._name, \"rating\": r.Rate.value} for r in ratings]\n",
    "\n",
    "            return jsonify(ratings_list)\n",
    "\n",
    "        \n",
    "        @token_required()\n",
    "        def put(self):\n",
    "            \"\"\"\n",
    "            Update a rating (1-10 scale) for a post.\n",
    "            \"\"\"\n",
    "            # Get current user from the token\n",
    "            current_user = g.current_user\n",
    "            # Get the request data\n",
    "            data = request.get_json()\n",
    "            rating_id = data.get('rating_id')\n",
    "            new_rating_value = data.get('rating')\n",
    "\n",
    "            # Validate rating_id and new_rating_value\n",
    "            if rating_id is None or new_rating_value is None:\n",
    "                return jsonify({\"message\": \"rating_id and new rating value are required\"}), 400\n",
    "\n",
    "            try:\n",
    "                new_rating_value = int(new_rating_value)\n",
    "            except ValueError:\n",
    "                return jsonify({\"message\": \"Rating must be an integer\"}), 400\n",
    "\n",
    "            if not (1 <= new_rating_value <= 10):\n",
    "                return jsonify({\"message\": \"Rating must be between 1 and 10\"}), 400\n",
    "\n",
    "            # Find the rating by ID and join with User to get the user's role\n",
    "            rating = db.session.query(Rate, User).join(User, Rate.user_id == User.id).filter(Rate.id == rating_id).first()\n",
    "\n",
    "            if not rating:\n",
    "                return jsonify({\"message\": \"Rating not found\"}), 404\n",
    "\n",
    "            # Check if the current user is the owner of the rating or an admin\n",
    "            if rating.Rate.user_id == current_user.id or current_user.role == 'Admin':\n",
    "                # Update the rating value\n",
    "                rating.Rate.value = new_rating_value\n",
    "                db.session.commit()\n",
    "\n",
    "                return jsonify({\"message\": \"Rating updated successfully\"})\n",
    "            else:\n",
    "                return jsonify({\"message\": \"Not authorized to update this rating\"}), 403\n",
    "        \n",
    "        @token_required()\n",
    "        def delete(self):\n",
    "            \"\"\"\n",
    "            Delete a rating for a post by the current user.\n",
    "            \"\"\"\n",
    "            current_user = g.current_user\n",
    "            data = request.get_json()\n",
    "            rating_id = data.get('rating_id')\n",
    "    \n",
    "            if rating_id is None:\n",
    "                return jsonify({\"message\": \"rating_id is required\"}), 400\n",
    "            \n",
    "            rating = db.session.query(Rate, User).join(User, Rate.user_id == User.id).filter(Rate.id == rating_id).first()\n",
    "            \n",
    "            if rating.Rate.user_id == current_user.id or current_user.role == 'Admin':\n",
    "                # Ensure the rating belongs to the current user\n",
    "                rating = Rate.query.filter_by(id=rating_id).first()\n",
    "                if rating:\n",
    "                    db.session.delete(rating)\n",
    "                    db.session.commit()\n",
    "                    return jsonify({\"message\": \"Rating deleted successfully\"})\n",
    "                else:\n",
    "                    return jsonify({\"message\": \"Rating not found\"}), 404\n",
    "           \n",
    "\n",
    "# Add resource to the API\n",
    "api.add_resource(RateAPI._CRUD, \"/rate\")"
   ]
  },
  {
   "cell_type": "code",
   "execution_count": null,
   "metadata": {},
   "outputs": [],
   "source": [
    "rates = [\n",
    "            Rate(value=5, user_id=5, post_id=1),\n",
    "            Rate(value=8, user_id=6, post_id=1),\n",
    "            Rate(value=1, user_id=7, post_id=1),\n",
    "            Rate(value=7, user_id=8, post_id=1),\n",
    "            Rate(value=1, user_id=9, post_id=1),\n",
    "\n",
    "            Rate(value=8, user_id=10, post_id=2),\n",
    "            Rate(value=6, user_id=11, post_id=2),\n",
    "            Rate(value=3, user_id=12, post_id=2),\n",
    "            Rate(value=8, user_id=13, post_id=2),\n",
    "            Rate(value=10, user_id=14, post_id=2),\n",
    "\n",
    "            Rate(value=8, user_id=15, post_id=3),\n",
    "            Rate(value=7, user_id=16, post_id=3),\n",
    "            Rate(value=6, user_id=17, post_id=3),\n",
    "            Rate(value=5, user_id=18, post_id=3),\n",
    "            Rate(value=5, user_id=19, post_id=3),\n",
    "\n",
    "            Rate(value=8, user_id=20, post_id=4),\n",
    "            Rate(value=4, user_id=21, post_id=4),\n",
    "            Rate(value=3, user_id=22, post_id=4),\n",
    "            Rate(value=8, user_id=23, post_id=4),\n",
    "            Rate(value=2, user_id=24, post_id=4),\n",
    "\n",
    "            Rate(value=2, user_id=25, post_id=5),\n",
    "            Rate(value=2, user_id=26, post_id=5),\n",
    "            Rate(value=1, user_id=27, post_id=5),\n",
    "            Rate(value=5, user_id=28, post_id=5)\n",
    "        ]\n"
   ]
  },
  {
   "cell_type": "markdown",
   "metadata": {},
   "source": [
    "## 4. Created a Silent CPT Demo for AP Exam"
   ]
  },
  {
   "cell_type": "markdown",
   "metadata": {},
   "source": [
    "[Watch the video](https://youtu.be/jNFIHRm9wgk)\n",
    "\n",
    "<iframe width=\"600\" height=\"400\" src=\"https://youtu.be/jNFIHRm9wgk\" frameborder=\"0\" allowfullscreen></iframe>"
   ]
  },
  {
   "cell_type": "markdown",
   "metadata": {},
   "source": [
    "Through my creation of the silent CPT video I made sure to demo:\n",
    "- The use/functionality of my Gemini chatbot to ask travel questions\n",
    "- My card page with average ratings and different attractions\n",
    "- A live rating bar\n",
    "- A table with different ratings, and demonstrated CRUD functions and live rating changes"
   ]
  },
  {
   "cell_type": "markdown",
   "metadata": {},
   "source": [
    "## 5. Holding stand-ups and maintaining a coherent focus toward the project of Intertravel across my entire group's features"
   ]
  },
  {
   "cell_type": "markdown",
   "metadata": {},
   "source": [
    "<img src=\"{{site.baseurl}}/images/standup1.png\" height=\"200px\">\n",
    "<img src=\"{{site.baseurl}}/images/standup2.png\" height=\"200px\">"
   ]
  },
  {
   "cell_type": "markdown",
   "metadata": {},
   "source": [
    "By organizing frequent stand-ups with my team, at both the whitebaord and my table I was able to:\n",
    " - Convey the requirements and what we should be working on\n",
    " - Feedback for specific teammates\n",
    " - Areas of focus\n",
    " - Align the team, and make sure our individual features were unique and had valuable contributions to the overall InterTravel project"
   ]
  },
  {
   "cell_type": "markdown",
   "metadata": {},
   "source": [
    "## 6. Organized a Live Review with Ms. Pataki for my team"
   ]
  },
  {
   "cell_type": "markdown",
   "metadata": {},
   "source": [
    "<img src=\"{{site.baseurl}}/images/mspatakireview.png\" height=\"200px\">"
   ]
  },
  {
   "cell_type": "markdown",
   "metadata": {},
   "source": [
    "We gained valuable insight through the live review with Ms. Pataki\n",
    " - We learned how to pace ourselves\n",
    " - Learned to highlight the most important and attractive features\n",
    " - Gained the ability to explain features and their real-world application\n",
    " - Gained confidence and practice to present to larger groups"
   ]
  }
 ],
 "metadata": {
  "language_info": {
   "name": "python"
  }
 },
 "nbformat": 4,
 "nbformat_minor": 2
}
