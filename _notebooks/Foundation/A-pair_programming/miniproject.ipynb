{
 "cells": [
  {
   "cell_type": "code",
   "execution_count": null,
   "metadata": {
    "vscode": {
     "languageId": "javascript"
    }
   },
   "outputs": [],
   "source": [
    "var compsci_quote_list = [\n",
    "    { quote: \"Why do programmers prefer dark mode? Because light attracts bugs.\", complexity: \"O(1)\" },\n",
    "    { quote: \"Why do Java developers wear glasses? Because they don't see sharp.\", complexity: \"O(1)\" },\n",
    "    { quote: \"How many programmers does it take to change a light bulb? None, that's a hardware problem.\", complexity: \"O(1)\" },\n",
    "    { quote: \"Why do programmers hate nature? It has too many bugs.\", complexity: \"O(n)\" },\n",
    "    { quote: \"Why do Python programmers prefer snake_case? Because they can't C.\", complexity: \"O(1)\" },\n",
    "    { quote: \"Why was the JavaScript developer sad? Because he didn't know how to 'null' his feelings.\", complexity: \"O(1)\" },\n",
    "    { quote: \"Why do programmers always mix up Christmas and Halloween? Because Oct 31 == Dec 25.\", complexity: \"O(1)\" },\n",
    "    { quote: \"Why did the programmer quit his job? Because he didn't get arrays.\", complexity: \"O(n)\" },\n",
    "    { quote: \"Why do programmers prefer using the terminal? Because they don't like Windows.\", complexity: \"O(1)\" },\n",
    "    { quote: \"Why was the function sad after a breakup? It couldn't find its closure.\", complexity: \"O(1)\" }\n",
    "];\n",
    "var randomIndex = Math.floor(Math.random() * compsci_quote_list.length);\n",
    "var selectedquote = compsci_quote_list[randomIndex];\n",
    "console.log(\"quote #\" + (randomIndex + 1) + \": \" + selectedquote.quote + \" (Complexity: \" + selectedquote.complexity + \")\");\n",
    "\n",
    "console.log(\"hello world\")"
   ]
  },
  {
   "cell_type": "markdown",
   "metadata": {},
   "source": [
    "To display the previous console logs from JavaScript in a markdown cell, you can use the following markdown syntax:\n",
    "Here are the console logs from the JavaScript code:\n",
    "\n",
    "- quote #3: How many programmers does it take to change a light bulb? None, that's a hardware problem. (Complexity: O(1))\n",
    "- quote #5: Why do Python programmers prefer snake_case? Because they can't C. (Complexity: O(1))\n",
    "- quote #9: Why do programmers prefer using the terminal? Because they don't like Windows. (Complexity: O(1))\n",
    "```javascript\n",
    "console.log(\"quote #3: How many programmers does it take to change a light bulb? None, that's a hardware problem. (Complexity: O(1))\");\n",
    "console.log(\"quote #5: Why do Python programmers prefer snake_case? Because they can't C. (Complexity: O(1))\");\n",
    "console.log(\"quote #9: Why do programmers prefer using the terminal? Because they don't like Windows. (Complexity: O(1))\");\n",
    "```"
   ]
  }
 ],
 "metadata": {
  "kernelspec": {
   "display_name": "venv",
   "language": "python",
   "name": "python3"
  },
  "language_info": {
   "codemirror_mode": {
    "name": "ipython",
    "version": 3
   },
   "file_extension": ".py",
   "mimetype": "text/x-python",
   "name": "python",
   "nbconvert_exporter": "python",
   "pygments_lexer": "ipython3",
   "version": "3.12.5"
  }
 },
 "nbformat": 4,
 "nbformat_minor": 2
}
