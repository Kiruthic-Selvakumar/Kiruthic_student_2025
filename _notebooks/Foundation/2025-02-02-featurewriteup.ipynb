{
 "cells": [
  {
   "cell_type": "raw",
   "metadata": {
    "vscode": {
     "languageId": "raw"
    }
   },
   "source": [
    "---\n",
    "layout: post\n",
    "title: Activity Planner Write Up\n",
    "---"
   ]
  },
  {
   "cell_type": "markdown",
   "metadata": {},
   "source": [
    "## Input "
   ]
  },
  {
   "cell_type": "code",
   "execution_count": null,
   "metadata": {
    "vscode": {
     "languageId": "javascript"
    }
   },
   "outputs": [],
   "source": [
    "const newRating = prompt(\"Enter a new rating (1-10):\");"
   ]
  },
  {
   "cell_type": "markdown",
   "metadata": {},
   "source": [
    "The update feature takes input as an integer, asking for a new rating value on the frontend from the user, and storing it as a variable called newRating."
   ]
  },
  {
   "cell_type": "markdown",
   "metadata": {},
   "source": [
    "## Use of a List"
   ]
  },
  {
   "cell_type": "code",
   "execution_count": null,
   "metadata": {},
   "outputs": [],
   "source": [
    "data = request.get_json()"
   ]
  },
  {
   "cell_type": "code",
   "execution_count": null,
   "metadata": {
    "vscode": {
     "languageId": "javascript"
    }
   },
   "outputs": [],
   "source": [
    "body: JSON.stringify({\n",
    "    rating_id: index.rating_id,  // Use the correct ID for the rating to update\n",
    "    rating: newRating  // Pass the new rating value\n",
    "})"
   ]
  },
  {
   "cell_type": "markdown",
   "metadata": {},
   "source": [
    "The PUT request on the frontend, in the body, passes a javascript object(list-type data) with a rating_id, and rating to the backend, which is accessed through the data variable in the backend to store information regarding ratings."
   ]
  },
  {
   "cell_type": "markdown",
   "metadata": {},
   "source": [
    "## Procedure/Algorithm"
   ]
  },
  {
   "cell_type": "code",
   "execution_count": null,
   "metadata": {},
   "outputs": [],
   "source": [
    "@token_required()\n",
    "def put(self):\n",
    "    \"\"\"\n",
    "    Update a rating (1-10 scale) for a post.\n",
    "    \"\"\"\n",
    "    # Get current user from the token\n",
    "    current_user = g.current_user\n",
    "    # Get the request data\n",
    "    data = request.get_json()\n",
    "    rating_id = data.get('rating_id')\n",
    "    new_rating_value = data.get('rating')\n",
    "\n",
    "    # Validate rating_id and new_rating_value\n",
    "    if rating_id is None or new_rating_value is None:\n",
    "        return jsonify({\"message\": \"rating_id and new rating value are required\"}), 400\n",
    "\n",
    "    try:\n",
    "        new_rating_value = int(new_rating_value)\n",
    "    except ValueError:\n",
    "        return jsonify({\"message\": \"Rating must be an integer\"}), 400\n",
    "\n",
    "    if not (1 <= new_rating_value <= 10):\n",
    "        return jsonify({\"message\": \"Rating must be between 1 and 10\"}), 400\n",
    "\n",
    "    # Find the rating by ID and join with User to get the user's role\n",
    "    rating = db.session.query(Rate, User).join(User, Rate.user_id == User.id).filter(Rate.id == rating_id).first()\n",
    "\n",
    "    # Check if the current user is the owner of the rating or an admin\n",
    "    if rating.Rate.user_id == current_user.id or current_user.role == 'Admin':\n",
    "        # Update the rating value\n",
    "        rating.Rate.value = new_rating_value\n",
    "        db.session.commit()\n",
    "\n",
    "        return jsonify({\"message\": \"Rating updated successfully\"})\n",
    "    else:\n",
    "        return jsonify({\"message\": \"Not authorized to update this rating\"}), 403"
   ]
  },
  {
   "cell_type": "markdown",
   "metadata": {},
   "source": [
    "This is a procedure called PUT in the backend apart of the rate API, which updates the rating value for a given/existing rate."
   ]
  },
  {
   "cell_type": "markdown",
   "metadata": {},
   "source": [
    "### Sequencing\n",
    "\n",
    " - Overall shows sequencing by first defining the vairables, then storing them in lists, and then adding them to the database table, showing an algorithm with a particular sequence allowing it to function properly. If the procedure were to be executed in another order, and the variables were defined later, there would be no data to add to the table, therefore this procedure/algorithm shows a strong sense of sequencing and order.\n",
    "\n",
    "### Selection"
   ]
  },
  {
   "cell_type": "code",
   "execution_count": null,
   "metadata": {},
   "outputs": [],
   "source": [
    "if rating_id is None or new_rating_value is None:\n",
    "    return jsonify({\"message\": \"rating_id and new rating value are required\"}), 400"
   ]
  },
  {
   "cell_type": "markdown",
   "metadata": {},
   "source": [
    "This shows selection because the if statement is a conditional which goes through selection and error handles in order to validate if the data is suitable to add to the database table, so it is selecting whether or not the data meets the criteria."
   ]
  },
  {
   "cell_type": "markdown",
   "metadata": {},
   "source": [
    "### Iteration"
   ]
  },
  {
   "cell_type": "code",
   "execution_count": null,
   "metadata": {},
   "outputs": [],
   "source": [
    "rating = db.session.query(Rate, User).join(User, Rate.user_id == User.id).filter(Rate.id == rating_id).first()"
   ]
  },
  {
   "cell_type": "markdown",
   "metadata": {},
   "source": [
    "This code snippet within the algorithm shows iteration, because through a query the code iterates through all of the rows of the rate table systematically and searches for ratings with user_ids and rating_ids which match with that of the current user."
   ]
  },
  {
   "cell_type": "markdown",
   "metadata": {},
   "source": [
    "## Call to Algorithm"
   ]
  },
  {
   "cell_type": "code",
   "execution_count": null,
   "metadata": {
    "vscode": {
     "languageId": "javascript"
    }
   },
   "outputs": [],
   "source": [
    "const response = await fetch(`${pythonURI}/api/rate`, {\n",
    "    method: 'PUT',\n",
    "    headers: { \n",
    "        'Accept': 'application/json',\n",
    "        'Content-Type': 'application/json',\n",
    "    },\n",
    "    body: JSON.stringify({\n",
    "        rating_id: index.rating_id,  // Use the correct ID for the rating to update\n",
    "        rating: newRating  // Pass the new rating value\n",
    "    }),\n",
    "    credentials: 'include',  // This ensures that cookies and session info are included"
   ]
  },
  {
   "cell_type": "markdown",
   "metadata": {},
   "source": [
    "In the frontend I am sending a request to the backend rate API using the PUT method, and this passed data like the rating_id, and the rating to the put/update procedure/algorithm in the backend in order to update a current rating with a new rating in the database."
   ]
  },
  {
   "cell_type": "markdown",
   "metadata": {},
   "source": [
    "## Output / Display"
   ]
  },
  {
   "cell_type": "code",
   "execution_count": null,
   "metadata": {
    "vscode": {
     "languageId": "javascript"
    }
   },
   "outputs": [],
   "source": [
    "data.forEach((rating, index) => {\n",
    "    const row = document.createElement(\"tr\");\n",
    "\n",
    "    row.innerHTML = `\n",
    "        <td>${rating.rating}</td>\n",
    "        <td>${rating.username}</td>\n",
    "        <td>\n",
    "            <button class=\"action-btn\" id=\"update-btn-${index}\">Update</button>\n",
    "            <button class=\"action-btn\" id=\"delete-btn-${index}\">Delete</button>\n",
    "        </td>\n",
    "    `;\n",
    "\n",
    "    body.appendChild(row);\n",
    "});"
   ]
  },
  {
   "cell_type": "markdown",
   "metadata": {},
   "source": [
    "This code on the frontend displays the new and updated rating along with a username in a distinct row of a table."
   ]
  }
 ],
 "metadata": {
  "language_info": {
   "name": "python"
  }
 },
 "nbformat": 4,
 "nbformat_minor": 2
}
