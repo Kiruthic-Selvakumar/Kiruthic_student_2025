{
 "cells": [
  {
   "cell_type": "markdown",
   "metadata": {},
   "source": [
    "---\n",
    "layout: base\n",
    "title: Quotes\n",
    "---\n",
    "<br>\n",
    "<button style=\"border-radius: 10px; cursor: pointer; margin-left: 20px;\" id=\"quoteButton\">Show Random quote</button>\n",
    "<p id=\"quoteDisplay\"></p>\n",
    "\n",
    "<script>\n",
    "document.getElementById('quoteButton').addEventListener('click', displayRandomquote);\n",
    "</script>"
   ]
  },
  {
   "cell_type": "code",
   "execution_count": 8,
   "metadata": {
    "vscode": {
     "languageId": "javascript"
    }
   },
   "outputs": [
    {
     "ename": "SyntaxError",
     "evalue": "invalid syntax (1904559126.py, line 2)",
     "output_type": "error",
     "traceback": [
      "\u001b[0;36m  Cell \u001b[0;32mIn[8], line 2\u001b[0;36m\u001b[0m\n\u001b[0;31m    var compsci_quote_list = [\u001b[0m\n\u001b[0m        ^\u001b[0m\n\u001b[0;31mSyntaxError\u001b[0m\u001b[0;31m:\u001b[0m invalid syntax\n"
     ]
    }
   ],
   "source": [
    "from IPython.display import Javascript\n",
    "var compsci_quote_list = [\n",
    "    { quote: \"'Be the change that you wish to see in the world.' — Mahatma Gandhi\" },\n",
    "    { quote: \"'To be, or not to be, that is the question.' — William Shakespeare\" },\n",
    "    { quote: \"'In the end, we will remember not the words of our enemies, but the silence of our friends.' — Martin Luther King Jr.\" },\n",
    "    { quote: \"'The only thing we have to fear is fear itself.' — Franklin D. Roosevelt\" },\n",
    "    { quote: \"'I think, therefore I am.' — René Descartes\" },\n",
    "    { quote: \"'The journey of a thousand miles begins with one step.' — Lao Tzu\" },\n",
    "    { quote: \"'Happiness is not something ready-made. It comes from your own actions.' — Dalai Lama\" },\n",
    "    { quote: \"'To love and be loved is to feel the sun from both sides.' — David Viscott\" },\n",
    "    { quote: \"'Don't expect to score if you never shoot.' — Arya\" },\n",
    "    { quote: \"'Life is what happens when you're busy making other plans.' — John Lennon\" },\n",
    "    { quote: \"'Do what you can, with what you have, where you are.' — Theodore Roosevelt\"\n",
    "\n",
    "\n",
    " }\n",
    "];\n",
    "\n",
    "function displayRandomquote() {\n",
    "    var randomIndex = Math.floor(Math.random() * compsci_quote_list.length);\n",
    "    var selectedquote = compsci_quote_list[randomIndex];\n",
    "    document.getElementById('quoteDisplay').textContent = selectedquote.quote;\n",
    "}"
   ]
  }
 ],
 "metadata": {
  "kernelspec": {
   "display_name": "venv",
   "language": "python",
   "name": "python3"
  },
  "language_info": {
   "codemirror_mode": {
    "name": "ipython",
    "version": 3
   },
   "file_extension": ".py",
   "mimetype": "text/x-python",
   "name": "python",
   "nbconvert_exporter": "python",
   "pygments_lexer": "ipython3",
   "version": "3.12.5"
  }
 },
 "nbformat": 4,
 "nbformat_minor": 2
}
