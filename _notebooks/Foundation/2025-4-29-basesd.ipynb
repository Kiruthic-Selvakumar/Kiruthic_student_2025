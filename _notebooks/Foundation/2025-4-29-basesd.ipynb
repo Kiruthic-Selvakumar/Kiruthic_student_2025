{
 "cells": [
  {
   "cell_type": "markdown",
   "metadata": {},
   "source": [
    "---\n",
    "layout: post\n",
    "title:  Base64\n",
    "---"
   ]
  },
  {
   "cell_type": "markdown",
   "metadata": {
    "vscode": {
     "languageId": "plaintext"
    }
   },
   "source": [
    "## Exercise 1\n",
    "\n",
    "#1E90FF  \n",
    "RGB: rgb(30, 144, 255)  \n",
    "RGBA: rgba(30, 144, 255, 1)\n",
    "\n",
    "#32CD32  \n",
    "RGB: rgb(50, 205, 50)  \n",
    "RGBA: rgba(50, 205, 50, 1)\n",
    "\n",
    "#FFD700  \n",
    "RGB: rgb(255, 215, 0)  \n",
    "RGBA: rgba(255, 215, 0, 1)\n",
    "\n",
    "rgba(0, 128, 128, 0.5)  \n",
    "Hex: #00808080\n",
    "\n",
    "## Exercise 2\n",
    "\n",
    "#FF5733  \n",
    "#33FF57  \n",
    "#3357FF  \n",
    "#F1C40F\n",
    "\n",
    "24 bits per pixel × 4 pixels = 96 bits  \n",
    "= 12 bytes\n"
   ]
  }
 ],
 "metadata": {
  "language_info": {
   "name": "python"
  }
 },
 "nbformat": 4,
 "nbformat_minor": 2
}
