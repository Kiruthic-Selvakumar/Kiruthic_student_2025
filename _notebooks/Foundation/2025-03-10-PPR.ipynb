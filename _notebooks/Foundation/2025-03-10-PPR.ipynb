{
 "cells": [
  {
   "cell_type": "raw",
   "metadata": {
    "vscode": {
     "languageId": "raw"
    }
   },
   "source": [
    "---\n",
    "layout: post\n",
    "title: Kiruthic PPR Code Snippets\n",
    "---"
   ]
  },
  {
   "cell_type": "markdown",
   "metadata": {},
   "source": [
    "## First Snippet: A student-developed procedure"
   ]
  },
  {
   "cell_type": "code",
   "execution_count": null,
   "metadata": {
    "vscode": {
     "languageId": "javascript"
    }
   },
   "outputs": [],
   "source": [
    "async function createRatingsTableForPost(postID) {\n",
    "    const table = document.getElementById(\"ratings-table\");\n",
    "    table.innerHTML = \"\";\n",
    "\n",
    "    try {\n",
    "        const response = await fetch(`${pythonURI}/api/rate?post_id=${postID}`, fetchOptions);\n",
    "        const data = await response.json();\n",
    "\n",
    "        if (data.length === 0) {\n",
    "            table.innerHTML = \"<tr><td colspan='3'>No ratings available.</td></tr>\";\n",
    "            return;\n",
    "        }\n",
    "\n",
    "        const header = document.createElement(\"thead\");\n",
    "        header.innerHTML = `\n",
    "            <tr>\n",
    "                <th>Rating</th>\n",
    "                <th>User ID</th>\n",
    "                <th>Actions</th>\n",
    "            </tr>`;\n",
    "        table.appendChild(header);\n",
    "\n",
    "        const body = document.createElement(\"tbody\");\n",
    "        data.forEach((rating, index) => {\n",
    "            const row = document.createElement(\"tr\");\n",
    "\n",
    "            row.innerHTML = `\n",
    "                <td>${rating.rating}</td>\n",
    "                <td>${rating.username}</td>\n",
    "                <td>\n",
    "                    <button class=\"action-btn\" id=\"update-btn-${index}\">Update</button>\n",
    "                    <button class=\"action-btn\" id=\"delete-btn-${index}\">Delete</button>\n",
    "                </td>\n",
    "            `;\n",
    "\n",
    "            body.appendChild(row);\n",
    "        });\n",
    "        table.appendChild(body);\n",
    "    } catch (error) {\n",
    "        console.error(\"Error fetching ratings:\", error);\n",
    "        table.innerHTML = \"<tr><td colspan='3'>Failed to load ratings.</td></tr>\";\n",
    "    }\n",
    "}"
   ]
  },
  {
   "cell_type": "markdown",
   "metadata": {},
   "source": [
    " - Descriptive Name: The procedure is called createRatingsTable.\n",
    " - At least one parameter that affects functionality: The procedure takes a postID parameter, which determines the specific activity or particular attraction which has ratings that are being accessed\n",
    "#### Algorithm using sequencing, selection, and iteration:\n",
    "\n",
    " - Sequencing: The procedure first clears whatever existing table content there is, then fetches data for the specific POSTID\n",
    " - Selection: There is a selection because there is an if statement that makes sure the data variable has values and is not empty.\n",
    " - Iteration: The procedure uses the foreach to iterate through each rating that is available, using a for loop in order to add each rating as a row to the table."
   ]
  },
  {
   "cell_type": "markdown",
   "metadata": {},
   "source": [
    "## Second Snippet: A code segment calling the procedure within the program:"
   ]
  },
  {
   "cell_type": "code",
   "execution_count": null,
   "metadata": {
    "vscode": {
     "languageId": "javascript"
    }
   },
   "outputs": [],
   "source": [
    "createRatingsTableForPost(postID);"
   ]
  },
  {
   "cell_type": "markdown",
   "metadata": {},
   "source": [
    "The second snippet shows the procedure called within the program. Here, the postID is passed as a parameter to the createRatingsTable function, which allows it to fetch and display ratings for the specific attraction(ie Eiffel Tower)"
   ]
  },
  {
   "cell_type": "markdown",
   "metadata": {},
   "source": [
    "\n",
    "## List (or Collection) Code Snippets:\n",
    "\n",
    "### First Snippet: A code segment that stores data in a list (array or collection):"
   ]
  },
  {
   "cell_type": "code",
   "execution_count": null,
   "metadata": {
    "vscode": {
     "languageId": "javascript"
    }
   },
   "outputs": [],
   "source": [
    "const response = await fetch(`${pythonURI}/api/rate?post_id=${postID}`, fetchOptions);\n",
    "const data = await response.json();"
   ]
  },
  {
   "cell_type": "markdown",
   "metadata": {},
   "source": [
    "This code shows how the response/data list is used to store data. The ratings data that is fetched from the backend is stored in a variable called data, which is an array in Javascrpt that stores the specific rating and other attributes that are necessary."
   ]
  },
  {
   "cell_type": "markdown",
   "metadata": {},
   "source": [
    "### Second Snippet: A code segment that uses the list to process, access, or modify elements:\n"
   ]
  },
  {
   "cell_type": "code",
   "execution_count": null,
   "metadata": {
    "vscode": {
     "languageId": "javascript"
    }
   },
   "outputs": [],
   "source": [
    "data.forEach((rating, index) => {\n",
    "    const row = document.createElement(\"tr\");\n",
    "\n",
    "    row.innerHTML = `\n",
    "        <td>${rating.rating}</td>\n",
    "        <td>${rating.username}</td>\n",
    "        <td>\n",
    "            <button class=\"action-btn\" id=\"update-btn-${index}\">Update</button>\n",
    "            <button class=\"action-btn\" id=\"delete-btn-${index}\">Delete</button>\n",
    "        </td>\n",
    "    `;\n",
    "\n",
    "    body.appendChild(row);\n",
    "});\n"
   ]
  },
  {
   "cell_type": "markdown",
   "metadata": {},
   "source": [
    "This code shows how the data (list) is used in my project. It checks each element of the data array, creating individual table rows for each rating and displaying them in the ratings table that is displayed for the user, accesing the rating and username attributes of the rating list/array."
   ]
  }
 ],
 "metadata": {
  "language_info": {
   "name": "python"
  }
 },
 "nbformat": 4,
 "nbformat_minor": 2
}
